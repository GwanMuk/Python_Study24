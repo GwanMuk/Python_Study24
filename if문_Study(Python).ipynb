{
  "nbformat": 4,
  "nbformat_minor": 0,
  "metadata": {
    "colab": {
      "provenance": [],
      "authorship_tag": "ABX9TyMV6U2woK4UXbH7z9pedNnT",
      "include_colab_link": true
    },
    "kernelspec": {
      "name": "python3",
      "display_name": "Python 3"
    },
    "language_info": {
      "name": "python"
    }
  },
  "cells": [
    {
      "cell_type": "markdown",
      "metadata": {
        "id": "view-in-github",
        "colab_type": "text"
      },
      "source": [
        "<a href=\"https://colab.research.google.com/github/GwanMuk/Pytion_Study24/blob/master/if%EB%AC%B8_Study(Python).ipynb\" target=\"_parent\"><img src=\"https://colab.research.google.com/assets/colab-badge.svg\" alt=\"Open In Colab\"/></a>"
      ]
    },
    {
      "cell_type": "markdown",
      "source": [
        "프로그램의 판단을 할 수 있는 조건문인 if를 사용해본다.\n",
        "\n",
        "if문은 만약에 라는 의미를 가지고 있고, 결과는 참과 거짓으로 판단한다."
      ],
      "metadata": {
        "id": "zHtJ6xz8cMRs"
      }
    },
    {
      "cell_type": "code",
      "execution_count": 2,
      "metadata": {
        "colab": {
          "base_uri": "https://localhost:8080/"
        },
        "id": "S_Wh1xLwZ16J",
        "outputId": "619b6611-19af-45cd-bde1-a1ff574ae26b"
      },
      "outputs": [
        {
          "output_type": "stream",
          "name": "stdout",
          "text": [
            "택시를 타고 가라\n",
            "모범택시는 비싸니 다음 택시를 기다려라\n",
            "택시가 안보이면 카카오택시를 불러라\n"
          ]
        }
      ],
      "source": [
        "# 돈이 있으면 택시를 타고 가고, 없으면 걸어간다\n",
        "\n",
        "money = True                    # 돈이 있으면\n",
        "if money:                       # 파이썬에서는 {}가 없기 때문에 : 으로 구문을 내림\n",
        "    print(\"택시를 타고 가라\")   # True 일 때 (하위 처리를 위해서 띄어쓰기 4번을 진행)\n",
        "    print(\"모범택시는 비싸니 다음 택시를 기다려라\")\n",
        "    print(\"택시가 안보이면 카카오택시를 불러라\")\n",
        "else:                           # False 일 때 처리\n",
        "    print(\"=============\")\n",
        "    print(\"  걸어가라\")         # False 용 명령어\n",
        "    print(\"=============\")"
      ]
    },
    {
      "cell_type": "code",
      "source": [
        "money = 2000\n",
        "if money >= 3000:               # if 뒤에 써지는 문장이 조건이 됨 :\n",
        "    print(\"택시를 타고 가라\")   # True\n",
        "else:\n",
        "    print(\"걸어가라\")           # False"
      ],
      "metadata": {
        "colab": {
          "base_uri": "https://localhost:8080/"
        },
        "id": "jq5V9UfLn69W",
        "outputId": "5e7f351b-d506-4188-a2d4-1c84542ca6be"
      },
      "execution_count": 3,
      "outputs": [
        {
          "output_type": "stream",
          "name": "stdout",
          "text": [
            "걸어가라\n"
          ]
        }
      ]
    },
    {
      "cell_type": "code",
      "source": [
        "# x or y  -> 또는 (둘중 하나만 참이여도 참)\n",
        "# x and y -> ~이고 (둘 다 참이여야 참)\n",
        "# not x   -> x가 아니면 참 (거짓, 반전)\n",
        "\n",
        "# 돈이 3000원 이상 있거나 카드가 있다면 택시를 타고 가고, 아니면 걸어가라\n",
        "\n",
        "money = 2000\n",
        "card = True\n",
        "if money >= 3000 or card:\n",
        "    print(\"택시를 타고 가라\")\n",
        "else:\n",
        "    print(\"걸어가라\")\n",
        "\n",
        "# or 연산 진리표\n",
        "# money   or   card    =    결과\n",
        "#   0           0      =     0\n",
        "#   1           0      =     1\n",
        "#   0           1      =     1\n",
        "#   1           1      =     1"
      ],
      "metadata": {
        "id": "IbTx8E2gwasR"
      },
      "execution_count": null,
      "outputs": []
    },
    {
      "cell_type": "code",
      "source": [
        "# in          , not in (안에 있는가 / 안에 없는가)\n",
        "# x in 리스트 , x not in 리스트\n",
        "# x in 튜플   , x not in 튜플\n",
        "# x in 문자열 , x not in 문자열\n",
        "\n",
        "1 not in [1, 2, 3]"
      ],
      "metadata": {
        "colab": {
          "base_uri": "https://localhost:8080/"
        },
        "id": "MSqTjnHwymr7",
        "outputId": "7c0974f7-8348-4f5d-c15a-3056ded54576"
      },
      "execution_count": 5,
      "outputs": [
        {
          "output_type": "execute_result",
          "data": {
            "text/plain": [
              "False"
            ]
          },
          "metadata": {},
          "execution_count": 5
        }
      ]
    },
    {
      "cell_type": "code",
      "source": [
        "'a' in ('a', 'b', 'c')   # 튜플"
      ],
      "metadata": {
        "colab": {
          "base_uri": "https://localhost:8080/"
        },
        "id": "xk3nZAqizoNL",
        "outputId": "b490b27d-d207-428f-c565-9e147d1a9665"
      },
      "execution_count": 6,
      "outputs": [
        {
          "output_type": "execute_result",
          "data": {
            "text/plain": [
              "True"
            ]
          },
          "metadata": {},
          "execution_count": 6
        }
      ]
    },
    {
      "cell_type": "code",
      "source": [
        "'j' not in 'Python'"
      ],
      "metadata": {
        "colab": {
          "base_uri": "https://localhost:8080/"
        },
        "id": "VrX-x_mkz1W1",
        "outputId": "93937ef9-e422-478a-b290-55df19556244"
      },
      "execution_count": 7,
      "outputs": [
        {
          "output_type": "execute_result",
          "data": {
            "text/plain": [
              "True"
            ]
          },
          "metadata": {},
          "execution_count": 7
        }
      ]
    },
    {
      "cell_type": "code",
      "source": [
        "# 만약에 주머니에 돈이 있으면 택시를 타고가고, 없으면 걸어가라\n",
        "pocket = ['paper', 'cellphone', 'money']\n",
        "\n",
        "if 'money' in pocket:\n",
        "    print(\"택시를 타고 가라\")\n",
        "else:\n",
        "    print(\"걸어가라\")"
      ],
      "metadata": {
        "colab": {
          "base_uri": "https://localhost:8080/"
        },
        "id": "1Im2Qemfz9p7",
        "outputId": "9f835366-4b9e-4176-95de-c9a16cca4a46"
      },
      "execution_count": 10,
      "outputs": [
        {
          "output_type": "stream",
          "name": "stdout",
          "text": [
            "택시를 타고 가라\n"
          ]
        }
      ]
    },
    {
      "cell_type": "code",
      "source": [
        "# 조건문에서 아무 일도 하지 않게 설정하고 싶을 때 (pass)\n",
        "# 조건문의 참, 거짓에 따라 실행할 행동을 정의 할 때나 아무런 일도 하지 않도록 설정하고 싶을 때\n",
        "\n",
        "#주머니에 돈이 있으면 가만히 있고, 주머니에 돈이 없으면 카드를 꺼내라\n",
        "\n",
        "pocket = ['paper', 'smartPhone', 'money']\n",
        "if 'card' in pocket:\n",
        "    pass              # skip 같은 의미\n",
        "else:\n",
        "    print(\"카드를 꺼내라\")"
      ],
      "metadata": {
        "colab": {
          "base_uri": "https://localhost:8080/"
        },
        "id": "-mn0GchV3Ubt",
        "outputId": "ad12f75b-b922-4a02-902d-a90dfc668568"
      },
      "execution_count": 12,
      "outputs": [
        {
          "output_type": "stream",
          "name": "stdout",
          "text": [
            "카드를 꺼내라\n"
          ]
        }
      ]
    },
    {
      "cell_type": "code",
      "source": [
        "# elif는 if문 아래쪽에 한번 더 비교하는 조건문(elif의 사용 횟수는 무제한)\n",
        "\n",
        "# 주머니에 돈이 있으면 택시를 타고 가고,\n",
        "# 주머니에 돈은 없지만 카드가 있으면 택시를 타고가고,\n",
        "# 둘 다 없으면 걸어가라.\n",
        "pocket = ['paper', 'cellphone']\n",
        "card = True\n",
        "\n",
        "if 'money' in pocket:\n",
        "    print(\"택시를 타고 가라\")\n",
        "elif 'card' in pocket:\n",
        "    print(\"택시를 타고 가라\")\n",
        "else:\n",
        "    print(\"걸어가라\")"
      ],
      "metadata": {
        "colab": {
          "base_uri": "https://localhost:8080/"
        },
        "id": "uCApADem7D4e",
        "outputId": "e143847c-2832-4c7f-92c1-10db1c15fd47"
      },
      "execution_count": 14,
      "outputs": [
        {
          "output_type": "stream",
          "name": "stdout",
          "text": [
            "걸어가라\n"
          ]
        }
      ]
    },
    {
      "cell_type": "code",
      "source": [
        "# 패션코딩 -> 최대한 간결하게 코딩하는 기법\n",
        "\n",
        "pocket = ['paper', 'cellphone']\n",
        "card = True\n",
        "\n",
        "if 'money' in pocket:    print(\"택시를 타고 가라\")\n",
        "elif 'card':    print(\"택시를 타고 가라\")\n",
        "else:    print(\"걸어가라\")"
      ],
      "metadata": {
        "colab": {
          "base_uri": "https://localhost:8080/"
        },
        "id": "Y5mz_JEc-63g",
        "outputId": "57055e08-5749-45a2-aaa8-3cff5c594bdc"
      },
      "execution_count": 16,
      "outputs": [
        {
          "output_type": "stream",
          "name": "stdout",
          "text": [
            "택시를 타고 가라\n"
          ]
        }
      ]
    },
    {
      "cell_type": "code",
      "source": [
        "# 시험 점수가 60점 이상이면 succces, 아니면 failure를 변수에 담아 출력 해보자.\n",
        "score = 88\n",
        "if score >= 60:\n",
        "    message = \"success\"\n",
        "else:\n",
        "    message = \"failure\"\n",
        "print(message)"
      ],
      "metadata": {
        "colab": {
          "base_uri": "https://localhost:8080/"
        },
        "id": "eLs5K2g7_UPA",
        "outputId": "873485de-ca89-4c9a-acec-8b81d6942166"
      },
      "execution_count": 17,
      "outputs": [
        {
          "output_type": "stream",
          "name": "stdout",
          "text": [
            "success\n"
          ]
        }
      ]
    },
    {
      "cell_type": "code",
      "source": [
        "# 파이썬의 조건부 표현식\n",
        "# 변수 = 참인 경우의 값 if 조건문 else 거짓인 경우의 값\n",
        "score = 88\n",
        "message = \"success\" if score >= 60 else \"failure\"\n",
        "print(message)"
      ],
      "metadata": {
        "colab": {
          "base_uri": "https://localhost:8080/"
        },
        "id": "j97deYu2_5ER",
        "outputId": "e12589fb-7e14-4f76-83ab-e9d4bfdf4103"
      },
      "execution_count": 18,
      "outputs": [
        {
          "output_type": "stream",
          "name": "stdout",
          "text": [
            "success\n"
          ]
        }
      ]
    },
    {
      "cell_type": "code",
      "source": [
        "# 미션\n",
        "# 성적처리용 코드 작성 a등급부터 f등급까지 출력\n",
        "print(\"성적을 입력하세요\")\n",
        "성적 = input(\"\")\n",
        "성적 = int(성적)\n",
        "if 성적 >= 90:\n",
        "    print(\"A등급\")\n",
        "elif 성적 >= 80:\n",
        "    print(\"B등급\")\n",
        "elif 성적 >= 70:\n",
        "    print(\"C등급\")\n",
        "elif 성적 >= 60:\n",
        "    print(\"D등급\")\n",
        "else:\n",
        "    print(\"F등급\")\n"
      ],
      "metadata": {
        "colab": {
          "base_uri": "https://localhost:8080/"
        },
        "id": "kcysuXQeAsax",
        "outputId": "96507389-1ade-4b16-a5a8-68eaef240137"
      },
      "execution_count": 27,
      "outputs": [
        {
          "output_type": "stream",
          "name": "stdout",
          "text": [
            "성적을 입력하세요\n",
            "65\n",
            "D등급\n"
          ]
        }
      ]
    },
    {
      "cell_type": "code",
      "source": [
        "print(\"국어성적을 입력하세요\")\n",
        "국어성적 = int(input(\"\"))\n",
        "\n",
        "if 국어성적 >= 90:\n",
        "    print(\"A등급\")\n",
        "elif 국어성적 >= 80:\n",
        "    print(\"B등급\")\n",
        "elif 국어성적 >= 70:\n",
        "    print(\"C등급\")\n",
        "elif 국어성적 >= 60:\n",
        "    print(\"D등급\")\n",
        "else:\n",
        "    print(\"F등급\")\n",
        "\n",
        "print(\"수학성적을 입력하세요\")\n",
        "수학성적 = int(input(\"\"))\n",
        "if 수학성적 >= 90:\n",
        "    print(\"A등급\")\n",
        "elif 수학성적 >= 80:\n",
        "    print(\"B등급\")\n",
        "elif 수학성적 >= 70:\n",
        "    print(\"C등급\")\n",
        "elif 수학성적 >= 60:\n",
        "    print(\"D등급\")\n",
        "else:\n",
        "    print(\"F등급\")\n",
        "\n",
        "avg = float((국어성적 + 수학성적) / 2)\n",
        "type(avg)\n",
        "print(\"당신의 과목 평균은 %0.2f 입니다\" % avg)\n"
      ],
      "metadata": {
        "colab": {
          "base_uri": "https://localhost:8080/"
        },
        "id": "NNRPNio0DSI6",
        "outputId": "96522d31-6ab8-42ca-944e-569411b823cf"
      },
      "execution_count": 53,
      "outputs": [
        {
          "output_type": "stream",
          "name": "stdout",
          "text": [
            "국어성적을 입력하세요\n",
            "55\n",
            "F등급\n",
            "수학성적을 입력하세요\n",
            "66\n",
            "D등급\n",
            "당신의 과목 평균은 60.50 입니다\n"
          ]
        }
      ]
    },
    {
      "cell_type": "code",
      "source": [
        "score = int(input(성적을 입력하세요))\n",
        "\n",
        " if not score.isdigit():  # .isdigit()함수는 문자인지 아닌지에 따라 True / False값 도출"
      ],
      "metadata": {
        "id": "aVH5VRH2PGtQ"
      },
      "execution_count": null,
      "outputs": []
    }
  ]
}