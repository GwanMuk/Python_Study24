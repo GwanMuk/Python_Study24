{
  "nbformat": 4,
  "nbformat_minor": 0,
  "metadata": {
    "colab": {
      "provenance": [],
      "authorship_tag": "ABX9TyMZJeyPo6j0Z7r2FJVa3+NH",
      "include_colab_link": true
    },
    "kernelspec": {
      "name": "python3",
      "display_name": "Python 3"
    },
    "language_info": {
      "name": "python"
    }
  },
  "cells": [
    {
      "cell_type": "markdown",
      "metadata": {
        "id": "view-in-github",
        "colab_type": "text"
      },
      "source": [
        "<a href=\"https://colab.research.google.com/github/GwanMuk/Pytion_Study24/blob/master/forExam.ipynb\" target=\"_parent\"><img src=\"https://colab.research.google.com/assets/colab-badge.svg\" alt=\"Open In Colab\"/></a>"
      ]
    },
    {
      "cell_type": "markdown",
      "source": [
        "for문 연습\n",
        "\n",
        "for문은 while문과 같은 반복문으로 차이점은 Max가 있나 없나이다.\n",
        "\n",
        "for문은 구구단과 같이 9라는 Max같이 있을 때 사용\n",
        "while은 max가 없지만 종료되는 시점을 만들어 제공(강제 종료 Ctrl+c)\n",
        "\n",
        "for문 변수 in 리스트 | 튜플 | 문자열 :\n",
        "    실행문1\n",
        "    실행문2\n",
        "\n",
        "자바의 샹항 for문 forEach문과 같다."
      ],
      "metadata": {
        "id": "SOtBKA7EByeF"
      }
    },
    {
      "cell_type": "code",
      "execution_count": 1,
      "metadata": {
        "colab": {
          "base_uri": "https://localhost:8080/"
        },
        "id": "WLbQHB8FBoq6",
        "outputId": "3af3a7d4-83e6-4b8f-f91d-c418a4dcac70"
      },
      "outputs": [
        {
          "output_type": "stream",
          "name": "stdout",
          "text": [
            "one\n",
            "two\n",
            "three\n"
          ]
        }
      ],
      "source": [
        "# 전형적인 for문\n",
        "\n",
        "test_list = ['one', 'two', 'three']\n",
        "for i in test_list:\n",
        "    print(i)"
      ]
    },
    {
      "cell_type": "code",
      "source": [
        "# 다양한 for문 사용\n",
        "\n",
        "a = [(1, 2), (3, 4), (5, 6)]\n",
        "for (first, last) in a:\n",
        "    print(first + last)"
      ],
      "metadata": {
        "colab": {
          "base_uri": "https://localhost:8080/"
        },
        "id": "Zsu7dAN0Erjm",
        "outputId": "296fce83-9011-46f1-a16e-bf926860199e"
      },
      "execution_count": 27,
      "outputs": [
        {
          "output_type": "stream",
          "name": "stdout",
          "text": [
            "3\n",
            "7\n",
            "11\n"
          ]
        }
      ]
    },
    {
      "cell_type": "code",
      "source": [
        "# 다양한 for문 사용\n",
        "\n",
        "a = [(1, 2, 3), (3, 4, 5), (5, 6 ,7)]\n",
        "for (first, middle,last) in a:\n",
        "    print(first + last)"
      ],
      "metadata": {
        "colab": {
          "base_uri": "https://localhost:8080/"
        },
        "id": "abhVPW0iXgqO",
        "outputId": "25e310db-2de3-45f7-be8c-31cc939940e4"
      },
      "execution_count": 26,
      "outputs": [
        {
          "output_type": "stream",
          "name": "stdout",
          "text": [
            "4\n",
            "8\n",
            "12\n"
          ]
        }
      ]
    },
    {
      "cell_type": "code",
      "source": [
        "# 총 5명의 학생이 시험을 보았는데 시험점수가 60점 이상이면 합격\n",
        "# 60점 이하면 불합격이다.\n",
        "\n",
        "marks = [90, 25, 67, 45, 80]    # 학생별 시험점수, 5명\n",
        "number = 0                      # 학생 출력시 번호 지정\n",
        "for mark in marks:              # 리스트(marks)에 있는 객체를 앞에서부터 1개씩 가져와 mark 변수에 넣음\n",
        "    number = number + 1\n",
        "    if mark >= 60:\n",
        "        print(\"%d번 학생은 합격입니다.\" % number)\n",
        "    else :\n",
        "        print(\"%d번 학생은 불합격입니다.\" % number)"
      ],
      "metadata": {
        "colab": {
          "base_uri": "https://localhost:8080/"
        },
        "id": "9yHEJAh_FMU9",
        "outputId": "7ecb95e8-63d9-4262-c970-7aa03fcb4188"
      },
      "execution_count": 4,
      "outputs": [
        {
          "output_type": "stream",
          "name": "stdout",
          "text": [
            "1번 학생은 합격입니다.\n",
            "2번 학생은 불합격입니다.\n",
            "3번 학생은 합격입니다.\n",
            "4번 학생은 불합격입니다.\n",
            "5번 학생은 합격입니다.\n"
          ]
        }
      ]
    },
    {
      "cell_type": "code",
      "source": [
        "# for + continue\n",
        "\n",
        "marks = {90, 25, 67, 45, 80}      # 학생들의 점수 리스트\n",
        "numbers = 0                       # 학생 번호\n",
        "for mark in marks:                # 리스트 반복문\n",
        "    numbers = numbers + 1         # 학생번호 증가\n",
        "    if mark < 60:                 # 점수가 < 60\n",
        "        continue                  # 점수가 60보다 작을 때 위로 올라감\n",
        "    print(\"%d번 학생 축하합니다. 합격입니다.\" % numbers)  # 60이상 일 때 처리문"
      ],
      "metadata": {
        "colab": {
          "base_uri": "https://localhost:8080/"
        },
        "id": "N0kcqtlXGmBn",
        "outputId": "57a4ebcf-bee8-401b-f5c3-e2d28eaf6f48"
      },
      "execution_count": 5,
      "outputs": [
        {
          "output_type": "stream",
          "name": "stdout",
          "text": [
            "1번 학생 축하합니다. 합격입니다.\n",
            "2번 학생 축하합니다. 합격입니다.\n",
            "4번 학생 축하합니다. 합격입니다.\n"
          ]
        }
      ]
    },
    {
      "cell_type": "code",
      "source": [
        "# for문과 같이 자주 쓰는 range()\n",
        "\n",
        "a = range(10)   # 0부터 10미만 숫자를 포함하는 객체를 만들어 줌\n",
        "a               # 0부터 까지의 값을 가지고 있음"
      ],
      "metadata": {
        "colab": {
          "base_uri": "https://localhost:8080/"
        },
        "id": "b9Xx7CcOKUcQ",
        "outputId": "6671d7a8-5f89-4478-b013-91c44a120c88"
      },
      "execution_count": 6,
      "outputs": [
        {
          "output_type": "execute_result",
          "data": {
            "text/plain": [
              "range(0, 10)"
            ]
          },
          "metadata": {},
          "execution_count": 6
        }
      ]
    },
    {
      "cell_type": "code",
      "source": [
        "a = range(1, 11)    # (시작 값, 끝 값: 끝 숫자는 포함되지 않는다.)\n",
        "a                   # 1~10까지의 값을 가지고 있음"
      ],
      "metadata": {
        "colab": {
          "base_uri": "https://localhost:8080/"
        },
        "id": "SCysCb6eKvog",
        "outputId": "7903ed02-8afb-41d7-89ef-901203f74cdb"
      },
      "execution_count": 8,
      "outputs": [
        {
          "output_type": "execute_result",
          "data": {
            "text/plain": [
              "range(1, 11)"
            ]
          },
          "metadata": {},
          "execution_count": 8
        }
      ]
    },
    {
      "cell_type": "code",
      "source": [
        "for i in range(1, 11):\n",
        "    print(i)"
      ],
      "metadata": {
        "colab": {
          "base_uri": "https://localhost:8080/"
        },
        "id": "D7wKjpghLKZw",
        "outputId": "ba728390-d092-4f37-99ce-e0240e7d2239"
      },
      "execution_count": 9,
      "outputs": [
        {
          "output_type": "stream",
          "name": "stdout",
          "text": [
            "1\n",
            "2\n",
            "3\n",
            "4\n",
            "5\n",
            "6\n",
            "7\n",
            "8\n",
            "9\n",
            "10\n"
          ]
        }
      ]
    },
    {
      "cell_type": "code",
      "source": [
        "marks = [90, 50, 25, 77, 11, 66]\n",
        "for number in range(len(marks)):\n",
        "    if marks[number] < 60:\n",
        "        continue\n",
        "    print(\"%d번 학생 축하합니다. 합격입니다.\" % (number+1))"
      ],
      "metadata": {
        "colab": {
          "base_uri": "https://localhost:8080/"
        },
        "id": "vQZo0PfXLeeA",
        "outputId": "948999b7-69ff-40ce-f4f9-7d658fc71031"
      },
      "execution_count": 10,
      "outputs": [
        {
          "output_type": "stream",
          "name": "stdout",
          "text": [
            "1번 학생 축하합니다. 합격입니다.\n",
            "4번 학생 축하합니다. 합격입니다.\n",
            "6번 학생 축하합니다. 합격입니다.\n"
          ]
        }
      ]
    },
    {
      "cell_type": "code",
      "source": [
        "# 구구단을 만들어 보자 2 * 1 ~ 9 * 9 = 81\n",
        "# 다중for문\n",
        "\n",
        "for i in range(2, 10):          # 2단 ~ 9단\n",
        "    for j in range(1, 10):      # 단마다 곱해지는 값 1 ~ 9\n",
        "        print(i * j, end=\", \")  # 각 단마다 곱하고 출력\n",
        "                                # print end 파라미터는 기본 엔터를 하지 않고 \" \"로\n",
        "    print('')                   # 단이 끝나면 엔터효과"
      ],
      "metadata": {
        "colab": {
          "base_uri": "https://localhost:8080/"
        },
        "id": "NMTXT-mVMBFx",
        "outputId": "8aba2bb0-80a4-4830-9f7e-a27e3bf26c22"
      },
      "execution_count": 12,
      "outputs": [
        {
          "output_type": "stream",
          "name": "stdout",
          "text": [
            "2, 4, 6, 8, 10, 12, 14, 16, 18, \n",
            "3, 6, 9, 12, 15, 18, 21, 24, 27, \n",
            "4, 8, 12, 16, 20, 24, 28, 32, 36, \n",
            "5, 10, 15, 20, 25, 30, 35, 40, 45, \n",
            "6, 12, 18, 24, 30, 36, 42, 48, 54, \n",
            "7, 14, 21, 28, 35, 42, 49, 56, 63, \n",
            "8, 16, 24, 32, 40, 48, 56, 64, 72, \n",
            "9, 18, 27, 36, 45, 54, 63, 72, 81, \n"
          ]
        }
      ]
    },
    {
      "cell_type": "code",
      "source": [
        "list = [1, 2, 3, 4, 5, 6, 7, 8 ,9, 10, 11, 12, 13]\n",
        "for i in list(2, 10):          # 2단 ~ 9단\n",
        "    for j in list(1, 10):      # 단마다 곱해지는 값 1 ~ 9\n",
        "        print(i * j, end=\", \")  # 각 단마다 곱하고 출력\n",
        "                                # print end 파라미터는 기본 엔터를 하지 않고 \" \"로\n",
        "    print('')"
      ],
      "metadata": {
        "colab": {
          "base_uri": "https://localhost:8080/",
          "height": 221
        },
        "id": "MS4D8uTsdjRq",
        "outputId": "7b39e339-f715-4214-9e6e-b70c673ec45e"
      },
      "execution_count": 35,
      "outputs": [
        {
          "output_type": "error",
          "ename": "TypeError",
          "evalue": "'list' object is not callable",
          "traceback": [
            "\u001b[0;31m---------------------------------------------------------------------------\u001b[0m",
            "\u001b[0;31mTypeError\u001b[0m                                 Traceback (most recent call last)",
            "\u001b[0;32m<ipython-input-35-aa6e1352e077>\u001b[0m in \u001b[0;36m<cell line: 2>\u001b[0;34m()\u001b[0m\n\u001b[1;32m      1\u001b[0m \u001b[0mlist\u001b[0m \u001b[0;34m=\u001b[0m \u001b[0;34m[\u001b[0m\u001b[0;36m1\u001b[0m\u001b[0;34m,\u001b[0m \u001b[0;36m2\u001b[0m\u001b[0;34m,\u001b[0m \u001b[0;36m3\u001b[0m\u001b[0;34m,\u001b[0m \u001b[0;36m4\u001b[0m\u001b[0;34m,\u001b[0m \u001b[0;36m5\u001b[0m\u001b[0;34m,\u001b[0m \u001b[0;36m6\u001b[0m\u001b[0;34m,\u001b[0m \u001b[0;36m7\u001b[0m\u001b[0;34m,\u001b[0m \u001b[0;36m8\u001b[0m \u001b[0;34m,\u001b[0m\u001b[0;36m9\u001b[0m\u001b[0;34m,\u001b[0m \u001b[0;36m10\u001b[0m\u001b[0;34m,\u001b[0m \u001b[0;36m11\u001b[0m\u001b[0;34m,\u001b[0m \u001b[0;36m12\u001b[0m\u001b[0;34m,\u001b[0m \u001b[0;36m13\u001b[0m\u001b[0;34m]\u001b[0m\u001b[0;34m\u001b[0m\u001b[0;34m\u001b[0m\u001b[0m\n\u001b[0;32m----> 2\u001b[0;31m \u001b[0;32mfor\u001b[0m \u001b[0mi\u001b[0m \u001b[0;32min\u001b[0m \u001b[0mlist\u001b[0m\u001b[0;34m(\u001b[0m\u001b[0;36m2\u001b[0m\u001b[0;34m,\u001b[0m \u001b[0;36m10\u001b[0m\u001b[0;34m)\u001b[0m\u001b[0;34m:\u001b[0m          \u001b[0;31m# 2단 ~ 9단\u001b[0m\u001b[0;34m\u001b[0m\u001b[0;34m\u001b[0m\u001b[0m\n\u001b[0m\u001b[1;32m      3\u001b[0m     \u001b[0;32mfor\u001b[0m \u001b[0mj\u001b[0m \u001b[0;32min\u001b[0m \u001b[0mlist\u001b[0m\u001b[0;34m(\u001b[0m\u001b[0;36m1\u001b[0m\u001b[0;34m,\u001b[0m \u001b[0;36m10\u001b[0m\u001b[0;34m)\u001b[0m\u001b[0;34m:\u001b[0m      \u001b[0;31m# 단마다 곱해지는 값 1 ~ 9\u001b[0m\u001b[0;34m\u001b[0m\u001b[0;34m\u001b[0m\u001b[0m\n\u001b[1;32m      4\u001b[0m         \u001b[0mprint\u001b[0m\u001b[0;34m(\u001b[0m\u001b[0mi\u001b[0m \u001b[0;34m*\u001b[0m \u001b[0mj\u001b[0m\u001b[0;34m,\u001b[0m \u001b[0mend\u001b[0m\u001b[0;34m=\u001b[0m\u001b[0;34m\", \"\u001b[0m\u001b[0;34m)\u001b[0m  \u001b[0;31m# 각 단마다 곱하고 출력\u001b[0m\u001b[0;34m\u001b[0m\u001b[0;34m\u001b[0m\u001b[0m\n\u001b[1;32m      5\u001b[0m                                 \u001b[0;31m# print end 파라미터는 기본 엔터를 하지 않고 \" \"로\u001b[0m\u001b[0;34m\u001b[0m\u001b[0;34m\u001b[0m\u001b[0m\n",
            "\u001b[0;31mTypeError\u001b[0m: 'list' object is not callable"
          ]
        }
      ]
    },
    {
      "cell_type": "code",
      "source": [
        "# 리스트 컴프리헨션 -> 결과를 리스트로 저장\n",
        "\n",
        "# 리스트 컴프리헨션을 사용하지 않는 방법\n",
        "\n",
        "a = [1, 2, 3, 4]            # 입력 리스트 값\n",
        "result = []                 # 출력 리스트 값\n",
        "for num in a:               # 입력 리스트 값을 한 개씩 가져와 num에 넣는다\n",
        "    result.append(num * 3)  # 출력 리스트 값에 3을 곱해서 추가(.append)\n",
        "print(result)               # 반복 후에 출력"
      ],
      "metadata": {
        "colab": {
          "base_uri": "https://localhost:8080/"
        },
        "id": "zbOn_FhlNYlS",
        "outputId": "fbe916b7-81ea-417b-fc39-64677a79cd0f"
      },
      "execution_count": 15,
      "outputs": [
        {
          "output_type": "stream",
          "name": "stdout",
          "text": [
            "[3, 6, 9, 12]\n"
          ]
        }
      ]
    },
    {
      "cell_type": "code",
      "source": [
        "a = [1, 2, 3, 4]\n",
        "result = [num * 3 for num in a]   # 변수 = [ 실행문 for 변수 in 배열 ] 리스트 화\n",
        "print(result)"
      ],
      "metadata": {
        "colab": {
          "base_uri": "https://localhost:8080/"
        },
        "id": "4U9kOPLxOa5S",
        "outputId": "12ea4944-0bd0-494f-d94e-4a081d627aef"
      },
      "execution_count": 14,
      "outputs": [
        {
          "output_type": "stream",
          "name": "stdout",
          "text": [
            "[3, 6, 9, 12]\n"
          ]
        }
      ]
    },
    {
      "cell_type": "code",
      "source": [
        "# 짝수만 3을 곱해서 리스트에 담고 싶다.\n",
        "a = [1, 2, 3, 4]\n",
        "result = [num * 3 for num in a if num % 2 == 0]\n",
        "# 결과배열 = 실행문 for        if 조건\n",
        "print(result)"
      ],
      "metadata": {
        "colab": {
          "base_uri": "https://localhost:8080/"
        },
        "id": "Fnrs6uNaPUNr",
        "outputId": "fa44db6a-c223-4bda-d2e9-124cd8b00459"
      },
      "execution_count": 16,
      "outputs": [
        {
          "output_type": "stream",
          "name": "stdout",
          "text": [
            "[6, 12]\n"
          ]
        }
      ]
    },
    {
      "cell_type": "code",
      "source": [
        "# 미션\n",
        "# 전에 만든 커피자판기 리스트화 해서 for문으로 구현\n",
        "# 커피 종류가 5개정도 늘어나야함(커피명, 수량, 단가)\n",
        "# 사용자가 커피를 반복구매\n",
        "# 관리자가 판매 종류 후 통계\n",
        "\n",
        "# 관리자 코드\n",
        "\n",
        "while True :\n",
        "    print(\"\"\"관리자 전용\n",
        "    1. 상품리스트\n",
        "    2. 품명기입/수정\n",
        "    3. 판매시작/종료\n",
        "    4. 총 판매금액/잔액확인\n",
        "    5. 종료\n",
        "    \"\"\")\n",
        "    drink_Menus = []\n",
        "    total_sale = price * drink_count\n",
        "\n",
        "\n",
        "    admin_menu = input(\"들어 갈 곳의 메뉴를 입력하세요\")\n",
        "    if admin_menu == \"상품리스트\":\n",
        "\n",
        "        print(\"상품리스트\")\n",
        "        for i in drink_list:\n",
        "            print(i)\n",
        "    elif admin_menu == \"품명기입\":\n",
        "        drink_list = []\n",
        "        n = int(input(\"총 상품 갯수를 입력하세요: \"))\n",
        "        for i in range(n):\n",
        "            print(f\"\\n{i+1}번째 상품 정보를 입력하세요: \")\n",
        "            drink_Name = input(\"음료 이름을 입력하세요: \")\n",
        "            price = int(input(\"음료 가격을 입력하세요: \"))\n",
        "            drink_count = int(input(\"음료 개수를 입력하세요: \"))\n",
        "            drink_list.append((drink_Name, price, drink_count))\n",
        "    elif admin_menu == \"판매시작\":\n",
        "        custom_menu = input(\"음료를 선택하세요: \")\n",
        "        if custom_menu == \"종료\":\n",
        "            break\n",
        "        else :\n",
        "            drink_list\n",
        "\n",
        "    elif admin_menu == \"총 판매금액\":\n",
        "        print(\"총 판매금액은 %d원 입니다\" %total_sale)\n",
        "\n",
        "    elif admin_menu == \"종료\":\n",
        "        break\n",
        "\n",
        "#\n",
        "\n",
        "\n",
        "\n",
        "# total_sale = price * drink_count\n",
        "\n",
        "\n"
      ],
      "metadata": {
        "colab": {
          "base_uri": "https://localhost:8080/"
        },
        "id": "mJcAVqnQRVYk",
        "outputId": "ee55b7e4-4d8e-45a7-c7ed-f7ae3de171e2"
      },
      "execution_count": 39,
      "outputs": [
        {
          "name": "stdout",
          "output_type": "stream",
          "text": [
            "관리자 전용\n",
            "    1. 상품리스트\n",
            "    2. 품명기입/수정\n",
            "    3. 판매시작/종료\n",
            "    4. 총 판매금액/잔액확인\n",
            "    5. 종료\n",
            "    \n",
            "들어 갈 곳의 메뉴를 입력하세요종료\n"
          ]
        }
      ]
    },
    {
      "cell_type": "code",
      "source": [
        "# 미션\n",
        "# 전에 만든 커피자판기 리스트화 해서 for문으로 구현\n",
        "# 커피 종류가 5개정도 늘어나야함(커피명, 수량, 단가)\n",
        "# 사용자가 커피를 반복구매\n",
        "# 관리자가 판매 종류 후 통계\n",
        "\n",
        "# 고객메뉴\n",
        "\n",
        "\n",
        "\n",
        "while True :\n",
        "      money = int(input(\"금액을 넣어주세요\"))\n",
        "      if money < price:\n",
        "          while True :\n",
        "              print((\"\"\"금액이 부족합니다. %s(을)를 드시고 싶으시면 %d원을 더 넣어주시기 바랍니다.\n",
        "                        반환을 원하신다면 '반환하기'를 입력해주시기 바랍니다\"\"\" %(coffee_Name,price - money)))\n",
        "              reaction = input(\"금액을 추가로 넣거나 반환하기를 입력하세요: \")\n",
        "\n",
        "              if reaction == \"반환하기\" :\n",
        "                  print(\"금액 %d원을 반환합니다.\"%money)\n",
        "                  break      # 두번째 반복문(while)종료 첫번째로 돌아감\n",
        "              else :\n",
        "                  try:\n",
        "                      additional_money = int(reaction)\n",
        "                      money += additional_money\n",
        "                      print(\"현재 투입 금액: %d원\" % money)\n",
        "                      if money >= price:\n",
        "                          print(\"%s(을)를 줍니다.\" % coffee_Name)\n",
        "                          coffee_count -= 1  # 음료제공\n",
        "                          print(\"잔액은 %d원입니다.\" % (money - price))\n",
        "                          break  # 음료 제공 후 반복문 종료\n",
        "                  except ValueError:\n",
        "                      print(\"유효한 금액을 입력하거나 '반환하기'를 입력하세요.\")\n",
        "      elif money>= price :\n",
        "          print(\"%s(을)를 줍니다\"% coffee_Name)\n",
        "          coffee_count = coffee_count - 1   # 한 잔씩 소모시킴\n",
        "          #  print(\"남은 %s 수량 %d 잔\" % (coffee_Name, coffee_count))\n",
        "          print(\"잔액은 %d원 입니다\"%(money - price, ))\n",
        "      else:\n",
        "          print(\"\")\n",
        "      if coffee_count == 0 :\n",
        "          print(\"%s가 다 떨어졌습니다. 판매를 중지합니다\" %coffee_Name)\n",
        "          print(\"현 자판기는 총 %d원을 벌었습니다\"%total_sale)\n",
        "          break\n"
      ],
      "metadata": {
        "id": "iB167rCJP0Bi"
      },
      "execution_count": null,
      "outputs": []
    },
    {
      "cell_type": "code",
      "source": [
        "# 미션\n",
        "# 전에 만든 커피자판기 리스트화 해서 for문으로 구현\n",
        "# 커피 종류가 5개정도 늘어나야함(커피명, 수량, 단가)\n",
        "# 사용자가 커피를 반복구매\n",
        "# 관리자가 판매 종류 후 통계\n",
        "\n",
        "# 관리자 코드\n",
        "\n",
        "while True :\n",
        "    print(\"\"\"관리자 전용\n",
        "    1. 상품리스트\n",
        "    2. 품명기입\n",
        "    3. 판매시작\n",
        "    4. 총 판매금액\n",
        "    5. 종료\n",
        "    \"\"\")\n",
        "\n",
        "\n",
        "    admin_menu = input(\"들어 갈 곳의 메뉴의 번호를 입력하세요\")\n",
        "    if admin_menu == \"1\":\n",
        "\n",
        "        print(\"상품리스트\")\n",
        "        for drink_Menu in drink_Menus:\n",
        "            print(drink_Menu)\n",
        "    elif admin_menu == \"2\":\n",
        "        drink_Menus = []\n",
        "        n = int(input(\"총 상품 갯수를 입력하세요: \"))\n",
        "        if n > 6 :\n",
        "            while True:\n",
        "                print(\"\"\"5개 이하로 작성해주시기 바랍니다\"\"\")\n",
        "                n = int(input(\"총 상품 갯수를 입력하세요: \"))\n",
        "                if n <= 6:\n",
        "                    break\n",
        "\n",
        "        for i in range(n):\n",
        "            print(f\"\\n{i+1}번째 상품 정보를 입력하세요: \")\n",
        "            drink_Name = input(\"음료 이름을 입력하세요: \")\n",
        "            price = int(input(\"음료 가격을 입력하세요: \"))\n",
        "            drink_Count = int(input(\"음료 개수를 입력하세요: \"))\n",
        "            drink_Menus.append([drink_Name, price, drink_Count])\n",
        "    elif admin_menu == \"3\":\n",
        "          total_sale = 0\n",
        "          while True :\n",
        "                    print(\"\\n[상품리스트]\")\n",
        "                    for i, drink in enumerate(drink_Menus):\n",
        "                        print(f\"{i+1}. {drink[0]} - 가격: {drink[1]}원, 수량: {drink[2]}개\")\n",
        "                        print(\"-----------\")\n",
        "                    custom_menu = input(\"음료를 선택하세요: \")\n",
        "                    if custom_menu == \"종료\":\n",
        "                        close_com=input(\"\"\"종료하시겠습니까?\n",
        "                        종료를 원하시면 한번 더 \"종료\"를 입력하세요 : \"\"\")\n",
        "                        if close_com == \"종료\":\n",
        "                          break\n",
        "                    else:\n",
        "                        for drink in drink_Menus:\n",
        "                            if drink[0] == custom_menu or custom_menu == str(drink_Menus.index(drink) + 1):\n",
        "                                selected_drink = drink\n",
        "                            if not selected_drink:\n",
        "                              print(\"존재하지 않는 음료입니다. 다시 선택해주세요.\")\n",
        "                              continue\n",
        "\n",
        "                            drink_Name, price, drink_Count = selected_drink\n",
        "                            if drink_Count == 0:\n",
        "                                print(f\"{drink_Name}은(는) 재고가 없습니다. 다른 상품을 선택해주세요.\")\n",
        "                                continue\n",
        "\n",
        "                        money = int(input(\"금액을 넣어주세요\"))\n",
        "                        if money < price:\n",
        "                              while True :\n",
        "                                  print((\"\"\"금액이 부족합니다. %s(을)를 드시고 싶으시면 %d원을 더 넣어주시기 바랍니다.\n",
        "                                            반환을 원하신다면 '반환하기'를 입력해주시기 바랍니다\"\"\" %(drink_Name,price - money)))\n",
        "                                  reaction = input(\"금액을 추가로 넣거나 반환하기를 입력하세요: \")\n",
        "\n",
        "                                  if reaction == \"반환하기\" :\n",
        "                                      print(\"투입된 %d원을 반환합니다.\"%money)\n",
        "                                      break      # 두번째 반복문(while)종료 첫번째로 돌아감\n",
        "                                  else :\n",
        "                                      try:\n",
        "                                          additional_money = int(reaction)\n",
        "                                          money += additional_money\n",
        "                                          print(\"현재 투입 금액: %d원\" % money)\n",
        "                                          if money >= price:\n",
        "                                              print(\"%s(을)를 받으세요.\" % drink_Name)\n",
        "                                              drink_Count -= 1  # 음료제공\n",
        "                                              total_sale += price\n",
        "                                              selected_drink[2] = drink_Count   # 수량 업데이트\n",
        "                                              print(\"잔액은 %d원입니다.\" % (money - price))\n",
        "                                              break  # 음료 제공 후 반복문 종료\n",
        "                                      except ValueError:\n",
        "                                        print(\"유효한 금액을 입력하거나 '반환하기'를 입력하세요.\")\n",
        "                        elif money>= price :\n",
        "                              print(\"%s(을)를 줍니다\"% drink_Name)\n",
        "                              drink_Count -= 1   # 한 잔씩 소모시킴\n",
        "                              total_sale += price\n",
        "                              selected_drink[2] = drink_Count   # 수량 업데이트\n",
        "                              #  print(\"남은 %s 수량 %d 잔\" % (coffee_Name, coffee_count))\n",
        "                              print(\"잔액은 %d원 입니다\"%(money - price, ))\n",
        "                        else:\n",
        "                              print(\"\")\n",
        "                        if drink_Count == 0 :\n",
        "                              print(\"%s가 다 떨어졌습니다. \" %drink_Name)\n",
        "                              #print(\"현 자판기는 총 %d원을 벌었습니다\"%total_sale)\n",
        "\n",
        "\n",
        "\n",
        "    elif admin_menu == \"4\":\n",
        "        print(\"총 판매금액은 %d원 입니다\" %total_sale)\n",
        "    elif admin_menu == \"5\":\n",
        "        print(\"시스템을 종료합니다\")\n",
        "        break\n",
        "    else:\n",
        "        print(\"잘못된 입력입니다. 다시 입력해주세요.\")\n",
        "\n",
        "\n",
        "\n",
        "\n",
        "# total_sale = price * drink_count\n",
        "\n",
        "\n"
      ],
      "metadata": {
        "colab": {
          "base_uri": "https://localhost:8080/"
        },
        "id": "r7rSaa0bjEHF",
        "outputId": "d91d7cb9-19a9-4906-e6a7-3a83bc9695d6"
      },
      "execution_count": 29,
      "outputs": [
        {
          "output_type": "stream",
          "name": "stdout",
          "text": [
            "관리자 전용\n",
            "    1. 상품리스트\n",
            "    2. 품명기입\n",
            "    3. 판매시작\n",
            "    4. 총 판매금액\n",
            "    5. 종료\n",
            "    \n",
            "들어 갈 곳의 메뉴의 번호를 입력하세요3\n",
            "\n",
            "[상품리스트]\n",
            "1. ㅁㅁㅁㅁ - 가격: 1234원, 수량: 2개\n",
            "-----------\n",
            "2. ㅂㅂㅂㅂ - 가격: 1111원, 수량: 3개\n",
            "-----------\n",
            "음료를 선택하세요: ㅁㅁㅁㅁ\n",
            "금액을 넣어주세요333\n",
            "금액이 부족합니다. ㅁㅁㅁㅁ(을)를 드시고 싶으시면 901원을 더 넣어주시기 바랍니다.\n",
            "                                            반환을 원하신다면 '반환하기'를 입력해주시기 바랍니다\n",
            "금액을 추가로 넣거나 반환하기를 입력하세요: 901\n",
            "현재 투입 금액: 1234원\n",
            "ㅁㅁㅁㅁ(을)를 받으세요.\n",
            "잔액은 0원입니다.\n",
            "\n",
            "[상품리스트]\n",
            "1. ㅁㅁㅁㅁ - 가격: 1234원, 수량: 1개\n",
            "-----------\n",
            "2. ㅂㅂㅂㅂ - 가격: 1111원, 수량: 3개\n",
            "-----------\n",
            "음료를 선택하세요: ㅂㅂㅂㅂ\n",
            "금액을 넣어주세요1111\n",
            "ㅂㅂㅂㅂ(을)를 줍니다\n",
            "잔액은 0원 입니다\n",
            "\n",
            "[상품리스트]\n",
            "1. ㅁㅁㅁㅁ - 가격: 1234원, 수량: 1개\n",
            "-----------\n",
            "2. ㅂㅂㅂㅂ - 가격: 1111원, 수량: 2개\n",
            "-----------\n",
            "음료를 선택하세요: 종료\n",
            "종료하시겠습니까? \n",
            "                        종료를 원하시면 한번 더 \"종료\"를 입력하세요 : 종료\n",
            "관리자 전용\n",
            "    1. 상품리스트\n",
            "    2. 품명기입\n",
            "    3. 판매시작\n",
            "    4. 총 판매금액\n",
            "    5. 종료\n",
            "    \n",
            "들어 갈 곳의 메뉴의 번호를 입력하세요4\n",
            "총 판매금액은 2345원 입니다\n",
            "관리자 전용\n",
            "    1. 상품리스트\n",
            "    2. 품명기입\n",
            "    3. 판매시작\n",
            "    4. 총 판매금액\n",
            "    5. 종료\n",
            "    \n",
            "들어 갈 곳의 메뉴의 번호를 입력하세요5\n",
            "시스템을 종료합니다\n"
          ]
        }
      ]
    },
    {
      "cell_type": "code",
      "source": [
        "drink_Menus = []\n",
        "\n",
        "while True:\n",
        "    print(\"\"\"\n",
        "[관리자 메뉴]\n",
        "1. 품명 기입\n",
        "2. 판매 시작\n",
        "3. 종료\n",
        "\"\"\")\n",
        "    admin_menu = input(\"메뉴를 선택하세요: \")\n",
        "\n",
        "    if admin_menu == \"1\":  # 품명 기입\n",
        "        n = int(input(\"총 상품 갯수를 입력하세요: \"))\n",
        "\n",
        "        while n > 5:  # 5개 이하로 제한\n",
        "            print(\"상품 갯수는 5개 이하로만 가능합니다.\")\n",
        "            n = int(input(\"다시 총 상품 갯수를 입력하세요: \"))\n",
        "\n",
        "        for i in range(n):\n",
        "            print(f\"\\n{i+1}번째 상품 정보를 입력하세요:\")\n",
        "            drink_Name = input(\"음료 이름을 입력하세요: \")\n",
        "            price = int(input(\"음료 가격을 입력하세요: \"))\n",
        "            drink_Count = int(input(\"음료 수량을 입력하세요: \"))\n",
        "            drink_Menus.append([drink_Name, price, drink_Count])\n",
        "\n",
        "        print(\"\\n상품이 등록되었습니다.\")\n",
        "\n",
        "    elif admin_menu == \"2\":  # 판매 시작\n",
        "        if not drink_Menus:\n",
        "            print(\"등록된 상품이 없습니다. 먼저 품목을 등록해주세요.\")\n",
        "            continue\n",
        "\n",
        "        total_sale = 0  # 총 매출\n",
        "        while True:\n",
        "            print(\"\\n[상품 리스트]\")\n",
        "            for i, drink in enumerate(drink_Menus):\n",
        "                print(f\"{i+1}. {drink[0]} - 가격: {drink[1]}원, 수량: {drink[2]}개\")\n",
        "            print(\"종료를 원하시면 '종료'를 입력하세요.\")\n",
        "\n",
        "            custom_menu = input(\"\\n음료를 선택하세요 (번호 또는 이름): \")\n",
        "            if custom_menu == \"종료\":\n",
        "                print(f\"판매를 종료합니다. 총 매출: {total_sale}원\")\n",
        "                break\n",
        "\n",
        "            # 상품 선택 처리\n",
        "            selected_drink = None\n",
        "            for drink in drink_Menus:\n",
        "                if drink[0] == custom_menu or custom_menu == str(drink_Menus.index(drink) + 1):\n",
        "                    selected_drink = drink\n",
        "                    break\n",
        "\n",
        "            if not selected_drink:\n",
        "                print(\"존재하지 않는 음료입니다. 다시 선택해주세요.\")\n",
        "                continue\n",
        "\n",
        "            drink_Name, price, drink_Count = selected_drink\n",
        "            if drink_Count == 0:\n",
        "                print(f\"{drink_Name}은(는) 재고가 없습니다. 다른 상품을 선택해주세요.\")\n",
        "                continue\n",
        "\n",
        "            money = int(input(f\"{drink_Name}의 가격은 {price}원입니다. 금액을 넣어주세요: \"))\n",
        "            while money < price:\n",
        "                print(f\"금액이 부족합니다. {price - money}원이 더 필요합니다.\")\n",
        "                additional_money = input(\"추가 금액을 넣거나 '반환'을 입력하세요: \")\n",
        "                if additional_money.lower() == \"반환\":\n",
        "                    print(f\"투입된 {money}원을 반환합니다.\")\n",
        "                    break\n",
        "                else:\n",
        "                    try:\n",
        "                        additional_money = int(additional_money)\n",
        "                        money += additional_money\n",
        "                    except ValueError:\n",
        "                        print(\"유효한 금액을 입력해주세요.\")\n",
        "            else:\n",
        "                if money >= price:\n",
        "                    print(f\"{drink_Name}을(를) 드립니다.\")\n",
        "                    drink_Count -= 1\n",
        "                    total_sale += price\n",
        "                    selected_drink[2] = drink_Count  # 수량 업데이트\n",
        "                    change = money - price\n",
        "                    print(f\"잔액 {change}원을 반환합니다.\")\n",
        "                    if drink_Count == 0:\n",
        "                        print(f\"{drink_Name}의 재고가 모두 소진되었습니다.\")\n",
        "\n",
        "    elif admin_menu == \"3\":  # 종료\n",
        "        print(\"프로그램을 종료합니다.\")\n",
        "        break\n",
        "\n",
        "    else:\n",
        "        print(\"잘못된 입력입니다. 다시 선택해주세요.\")\n"
      ],
      "metadata": {
        "colab": {
          "base_uri": "https://localhost:8080/"
        },
        "id": "tt8OZ4Uoq4HA",
        "outputId": "57a1d3ab-a60b-4aff-eea8-99af483afc2f"
      },
      "execution_count": 26,
      "outputs": [
        {
          "output_type": "stream",
          "name": "stdout",
          "text": [
            "\n",
            "[관리자 메뉴]\n",
            "1. 품명 기입\n",
            "2. 판매 시작\n",
            "3. 종료\n",
            "\n",
            "메뉴를 선택하세요: 품명 기입 \n",
            "잘못된 입력입니다. 다시 선택해주세요.\n",
            "\n",
            "[관리자 메뉴]\n",
            "1. 품명 기입\n",
            "2. 판매 시작\n",
            "3. 종료\n",
            "\n",
            "메뉴를 선택하세요: 품명 기입\n",
            "잘못된 입력입니다. 다시 선택해주세요.\n",
            "\n",
            "[관리자 메뉴]\n",
            "1. 품명 기입\n",
            "2. 판매 시작\n",
            "3. 종료\n",
            "\n",
            "메뉴를 선택하세요: 1\n",
            "총 상품 갯수를 입력하세요: 1234\n",
            "상품 갯수는 5개 이하로만 가능합니다.\n",
            "다시 총 상품 갯수를 입력하세요: 2\n",
            "\n",
            "1번째 상품 정보를 입력하세요:\n",
            "음료 이름을 입력하세요: ㅁㅁㅁㅁ\n",
            "음료 가격을 입력하세요: 1234\n",
            "음료 수량을 입력하세요: 3\n",
            "\n",
            "2번째 상품 정보를 입력하세요:\n",
            "음료 이름을 입력하세요: ㅂㅂㅂㅂ\n",
            "음료 가격을 입력하세요: 1111\n",
            "음료 수량을 입력하세요: 3\n",
            "\n",
            "상품이 등록되었습니다.\n",
            "\n",
            "[관리자 메뉴]\n",
            "1. 품명 기입\n",
            "2. 판매 시작\n",
            "3. 종료\n",
            "\n",
            "메뉴를 선택하세요: 2\n",
            "\n",
            "[상품 리스트]\n",
            "1. ㅁㅁㅁㅁ - 가격: 1234원, 수량: 3개\n",
            "2. ㅂㅂㅂㅂ - 가격: 1111원, 수량: 3개\n",
            "종료를 원하시면 '종료'를 입력하세요.\n",
            "\n",
            "음료를 선택하세요 (번호 또는 이름): 1\n",
            "ㅁㅁㅁㅁ의 가격은 1234원입니다. 금액을 넣어주세요: 1234\n",
            "ㅁㅁㅁㅁ을(를) 드립니다.\n",
            "잔액 0원을 반환합니다.\n",
            "\n",
            "[상품 리스트]\n",
            "1. ㅁㅁㅁㅁ - 가격: 1234원, 수량: 2개\n",
            "2. ㅂㅂㅂㅂ - 가격: 1111원, 수량: 3개\n",
            "종료를 원하시면 '종료'를 입력하세요.\n",
            "\n",
            "음료를 선택하세요 (번호 또는 이름): 종료\n",
            "판매를 종료합니다. 총 매출: 1234원\n",
            "\n",
            "[관리자 메뉴]\n",
            "1. 품명 기입\n",
            "2. 판매 시작\n",
            "3. 종료\n",
            "\n",
            "메뉴를 선택하세요: 종료\n",
            "잘못된 입력입니다. 다시 선택해주세요.\n",
            "\n",
            "[관리자 메뉴]\n",
            "1. 품명 기입\n",
            "2. 판매 시작\n",
            "3. 종료\n",
            "\n",
            "메뉴를 선택하세요: 3\n",
            "프로그램을 종료합니다.\n"
          ]
        }
      ]
    }
  ]
}