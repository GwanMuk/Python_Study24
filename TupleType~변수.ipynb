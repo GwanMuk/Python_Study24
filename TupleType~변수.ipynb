{
  "nbformat": 4,
  "nbformat_minor": 0,
  "metadata": {
    "colab": {
      "provenance": [],
      "authorship_tag": "ABX9TyNUoJ/FYVxuKKSDApgciB/s",
      "include_colab_link": true
    },
    "kernelspec": {
      "name": "python3",
      "display_name": "Python 3"
    },
    "language_info": {
      "name": "python"
    }
  },
  "cells": [
    {
      "cell_type": "markdown",
      "metadata": {
        "id": "view-in-github",
        "colab_type": "text"
      },
      "source": [
        "<a href=\"https://colab.research.google.com/github/GwanMuk/Pytion_Study24/blob/master/TupleType~%EB%B3%80%EC%88%98.ipynb\" target=\"_parent\"><img src=\"https://colab.research.google.com/assets/colab-badge.svg\" alt=\"Open In Colab\"/></a>"
      ]
    },
    {
      "cell_type": "markdown",
      "source": [
        "튜플 자료형\n",
        "\n",
        "튜플은 리스트와 거의 유사함, 차이점은 ()로 둘러 쌈\n",
        "리스트는 CRUD(Create, Read, Update, Delete)가 가능하지만, 튜플은 CR(Create, Read)만 가능 (읽기 전용)\n",
        "\n",
        "자바에 Collections.unmodifiableList() 기능과 유사함\n",
        "\n",
        "https://velog.io/@clean01/Java-%EB%B3%80%EA%B2%BD%EC%9D%B4-%EB%B6%88%EA%B0%80%EB%8A%A5%ED%95%9C-Collection%EC%9D%84-%EB%A7%8C%EB%93%A4%EA%B8%B0-Immutable-Collection-Immutable-List\n"
      ],
      "metadata": {
        "id": "cZPz278nVfrZ"
      }
    },
    {
      "cell_type": "code",
      "execution_count": null,
      "metadata": {
        "id": "oZAqlYIgU7ur"
      },
      "outputs": [],
      "source": [
        "# 튜플 생성하기\n",
        "\n",
        "t1 = ()                         # 빈 객체\n",
        "t2 = (1,)                       # 1개의 요소를 가질 때 쉼표를 반드시 붙여야 함\n",
        "t3 = (1, 2, 3)\n",
        "t4 = 1, 2, 3                    # 괄호 생략 가능\n",
        "t5 = ('a', 'b', ('ab', ('cd'))) # 2차원 튜플\n",
        "\n",
        "# 튜플과 리스트의 큰 차이는 요솟값을 변화시킬 수 있는지에 대한 여부 (튜플은 불가능)\n",
        "# 프로그램이 실행되는 동안 요솟값이 항상 변하지 않기를 원한다면 튜플을 사용하면 됨"
      ]
    },
    {
      "cell_type": "code",
      "source": [
        "t1 = (1, 2, 'a', 'b')\n",
        "del t1[0]\n"
      ],
      "metadata": {
        "colab": {
          "base_uri": "https://localhost:8080/",
          "height": 165
        },
        "id": "YXh_EF4kXz0S",
        "outputId": "7ec185ab-ad61-48b7-def4-0099153d3c4d"
      },
      "execution_count": 2,
      "outputs": [
        {
          "output_type": "error",
          "ename": "TypeError",
          "evalue": "'tuple' object doesn't support item deletion",
          "traceback": [
            "\u001b[0;31m---------------------------------------------------------------------------\u001b[0m",
            "\u001b[0;31mTypeError\u001b[0m                                 Traceback (most recent call last)",
            "\u001b[0;32m<ipython-input-2-f66ca102cafc>\u001b[0m in \u001b[0;36m<cell line: 2>\u001b[0;34m()\u001b[0m\n\u001b[1;32m      1\u001b[0m \u001b[0mt1\u001b[0m \u001b[0;34m=\u001b[0m \u001b[0;34m(\u001b[0m\u001b[0;36m1\u001b[0m\u001b[0;34m,\u001b[0m \u001b[0;36m2\u001b[0m\u001b[0;34m,\u001b[0m \u001b[0;34m'a'\u001b[0m\u001b[0;34m,\u001b[0m \u001b[0;34m'b'\u001b[0m\u001b[0;34m)\u001b[0m\u001b[0;34m\u001b[0m\u001b[0;34m\u001b[0m\u001b[0m\n\u001b[0;32m----> 2\u001b[0;31m \u001b[0;32mdel\u001b[0m \u001b[0mt1\u001b[0m\u001b[0;34m[\u001b[0m\u001b[0;36m0\u001b[0m\u001b[0;34m]\u001b[0m\u001b[0;34m\u001b[0m\u001b[0;34m\u001b[0m\u001b[0m\n\u001b[0m",
            "\u001b[0;31mTypeError\u001b[0m: 'tuple' object doesn't support item deletion"
          ]
        }
      ]
    },
    {
      "cell_type": "code",
      "source": [
        "t1[0] = 'c'"
      ],
      "metadata": {
        "colab": {
          "base_uri": "https://localhost:8080/",
          "height": 147
        },
        "id": "Juxk9XRMYIRa",
        "outputId": "49070dfb-3136-4f1e-e56f-85a9bd3a8205"
      },
      "execution_count": 3,
      "outputs": [
        {
          "output_type": "error",
          "ename": "TypeError",
          "evalue": "'tuple' object does not support item assignment",
          "traceback": [
            "\u001b[0;31m---------------------------------------------------------------------------\u001b[0m",
            "\u001b[0;31mTypeError\u001b[0m                                 Traceback (most recent call last)",
            "\u001b[0;32m<ipython-input-3-ade0ed493e3b>\u001b[0m in \u001b[0;36m<cell line: 1>\u001b[0;34m()\u001b[0m\n\u001b[0;32m----> 1\u001b[0;31m \u001b[0mt1\u001b[0m\u001b[0;34m[\u001b[0m\u001b[0;36m0\u001b[0m\u001b[0;34m]\u001b[0m \u001b[0;34m=\u001b[0m \u001b[0;34m'c'\u001b[0m\u001b[0;34m\u001b[0m\u001b[0;34m\u001b[0m\u001b[0m\n\u001b[0m",
            "\u001b[0;31mTypeError\u001b[0m: 'tuple' object does not support item assignment"
          ]
        }
      ]
    },
    {
      "cell_type": "markdown",
      "source": [
        "딕셔너리\n",
        "\n",
        "딕셔너리는 단어 그대로'사전'이라는 의미다.\n",
        "*   \"people\" -> \"사람\"\n",
        "*  \"baseball\" -> \"야구\"와 같이\n",
        "*    key값       value값이 한쌍으로 가지는 자료형이다\n",
        "\n"
      ],
      "metadata": {
        "id": "Jw-8R6rbaLP7"
      }
    },
    {
      "cell_type": "code",
      "source": [
        "dic = {'name' : 'KimGiWon', 'phone' : '010-8888-9999', 'birth' : '0108'}    # 딕셔너리의 기본형"
      ],
      "metadata": {
        "id": "LFFPAyx_aH3r"
      },
      "execution_count": 35,
      "outputs": []
    },
    {
      "cell_type": "code",
      "source": [
        "a= {1: 'a'}\n",
        "a [2] = 'b'   # 딕셔너리에 추가\n",
        "a"
      ],
      "metadata": {
        "colab": {
          "base_uri": "https://localhost:8080/"
        },
        "id": "aEkNQPVjcVX8",
        "outputId": "8cc68974-e1ff-4bda-952e-2a4010d845e9"
      },
      "execution_count": 6,
      "outputs": [
        {
          "output_type": "execute_result",
          "data": {
            "text/plain": [
              "{1: 'a', 2: 'b'}"
            ]
          },
          "metadata": {},
          "execution_count": 6
        }
      ]
    },
    {
      "cell_type": "code",
      "source": [
        "a = {1 : 'a', 1 : 'b', 1 : 'c'}   # key값이 중복 될 때 1개를 제외한 모든 값이 무시된다\n",
        "a"
      ],
      "metadata": {
        "colab": {
          "base_uri": "https://localhost:8080/"
        },
        "id": "3oypi7qhet_F",
        "outputId": "1b3d69e1-b73a-4794-a1b1-7d73d32c4477"
      },
      "execution_count": 39,
      "outputs": [
        {
          "output_type": "execute_result",
          "data": {
            "text/plain": [
              "{1: 'c'}"
            ]
          },
          "metadata": {},
          "execution_count": 39
        }
      ]
    },
    {
      "cell_type": "code",
      "source": [
        "a['name'] = 'KimGiWon'    # Key값과 Value값(딕셔너리) 쌍으로 추가 가능\n",
        "a"
      ],
      "metadata": {
        "colab": {
          "base_uri": "https://localhost:8080/"
        },
        "id": "BEDLGk6WdoTM",
        "outputId": "c51daf4e-404a-491a-97dd-21c1ec07a8ec"
      },
      "execution_count": 40,
      "outputs": [
        {
          "output_type": "execute_result",
          "data": {
            "text/plain": [
              "{1: 'c', 'name': 'KimGiWon'}"
            ]
          },
          "metadata": {},
          "execution_count": 40
        }
      ]
    },
    {
      "cell_type": "code",
      "source": [
        "a[3] = [1, 2, 3]      # value값에도 배열을 넣어서 넣을 수 있다\n",
        "a"
      ],
      "metadata": {
        "colab": {
          "base_uri": "https://localhost:8080/"
        },
        "id": "SfDdfveXzcCP",
        "outputId": "ffda8896-e56c-44c8-e828-ae613cda9d38"
      },
      "execution_count": 41,
      "outputs": [
        {
          "output_type": "execute_result",
          "data": {
            "text/plain": [
              "{1: 'c', 'name': 'KimGiWon', 3: [1, 2, 3]}"
            ]
          },
          "metadata": {},
          "execution_count": 41
        }
      ]
    },
    {
      "cell_type": "code",
      "source": [
        "del a[1]    # del 함수로 삭제 가능\n",
        "a"
      ],
      "metadata": {
        "colab": {
          "base_uri": "https://localhost:8080/"
        },
        "id": "HDRGVhieeMk0",
        "outputId": "b10cb8c6-c692-4011-ada4-43be858eb7a1"
      },
      "execution_count": 42,
      "outputs": [
        {
          "output_type": "execute_result",
          "data": {
            "text/plain": [
              "{'name': 'KimGiWon', 3: [1, 2, 3]}"
            ]
          },
          "metadata": {},
          "execution_count": 42
        }
      ]
    },
    {
      "cell_type": "code",
      "source": [
        "dic = {'name' : 'KimGiWon', 'phone' : '010-8888-9999', 'birth' : '0108'}\n",
        "#       key   :   value       key   :      value          key  :  value\n",
        "dic['name']   # name 이라는 Key값을 호출시 상응하는 Value값이 나옴"
      ],
      "metadata": {
        "colab": {
          "base_uri": "https://localhost:8080/",
          "height": 35
        },
        "id": "kGVRvpTMwAju",
        "outputId": "e8bafc54-92cb-4398-8882-78998eb1ca7d"
      },
      "execution_count": 34,
      "outputs": [
        {
          "output_type": "execute_result",
          "data": {
            "text/plain": [
              "'KimGiWon'"
            ],
            "application/vnd.google.colaboratory.intrinsic+json": {
              "type": "string"
            }
          },
          "metadata": {},
          "execution_count": 34
        }
      ]
    },
    {
      "cell_type": "code",
      "source": [
        "dic['phone']"
      ],
      "metadata": {
        "colab": {
          "base_uri": "https://localhost:8080/",
          "height": 35
        },
        "id": "6cXsgpB-wh7v",
        "outputId": "ece2ae73-e04a-47b3-8bca-a8ee05f3de99"
      },
      "execution_count": 36,
      "outputs": [
        {
          "output_type": "execute_result",
          "data": {
            "text/plain": [
              "'010-8888-9999'"
            ],
            "application/vnd.google.colaboratory.intrinsic+json": {
              "type": "string"
            }
          },
          "metadata": {},
          "execution_count": 36
        }
      ]
    },
    {
      "cell_type": "code",
      "source": [
        "a = {[1, 2] : 'hi'}    # 리스트 형식의 값이 변할 수 있기에 Key값으로 쓸 수 없다."
      ],
      "metadata": {
        "colab": {
          "base_uri": "https://localhost:8080/",
          "height": 147
        },
        "id": "U1m7z7k_1mqp",
        "outputId": "0b322cca-8db5-4afa-d686-1a667671ab6d"
      },
      "execution_count": 45,
      "outputs": [
        {
          "output_type": "error",
          "ename": "TypeError",
          "evalue": "unhashable type: 'list'",
          "traceback": [
            "\u001b[0;31m---------------------------------------------------------------------------\u001b[0m",
            "\u001b[0;31mTypeError\u001b[0m                                 Traceback (most recent call last)",
            "\u001b[0;32m<ipython-input-45-25545abf9d58>\u001b[0m in \u001b[0;36m<cell line: 1>\u001b[0;34m()\u001b[0m\n\u001b[0;32m----> 1\u001b[0;31m \u001b[0ma\u001b[0m \u001b[0;34m=\u001b[0m \u001b[0;34m{\u001b[0m\u001b[0;34m[\u001b[0m\u001b[0;36m1\u001b[0m\u001b[0;34m,\u001b[0m \u001b[0;36m2\u001b[0m\u001b[0;34m]\u001b[0m \u001b[0;34m:\u001b[0m \u001b[0;34m'hi'\u001b[0m\u001b[0;34m}\u001b[0m\u001b[0;34m\u001b[0m\u001b[0;34m\u001b[0m\u001b[0m\n\u001b[0m",
            "\u001b[0;31mTypeError\u001b[0m: unhashable type: 'list'"
          ]
        }
      ]
    },
    {
      "cell_type": "code",
      "source": [
        "a = {(1, 2) : 'hi'}   # 튜플 형식은 key값으로 쓸 수 있다.\n",
        "a"
      ],
      "metadata": {
        "colab": {
          "base_uri": "https://localhost:8080/"
        },
        "id": "yRcdOB8_1aLb",
        "outputId": "d43ef0a9-b34f-48b7-dc16-920214c6d7e3"
      },
      "execution_count": 44,
      "outputs": [
        {
          "output_type": "execute_result",
          "data": {
            "text/plain": [
              "{(1, 2): 'hi'}"
            ]
          },
          "metadata": {},
          "execution_count": 44
        }
      ]
    },
    {
      "cell_type": "code",
      "source": [
        "a = {'name' : 'KimGiWon', 'phone' : '010-8888-9999', 'birth' : '0108'}\n",
        "a.keys()    # key() 함수는 key값만 모아서 리턴해준다"
      ],
      "metadata": {
        "colab": {
          "base_uri": "https://localhost:8080/"
        },
        "id": "pnWbEcppw4sG",
        "outputId": "dcd59feb-b1b6-4eb9-f081-c5e258a64c06"
      },
      "execution_count": 50,
      "outputs": [
        {
          "output_type": "execute_result",
          "data": {
            "text/plain": [
              "dict_keys(['name', 'phone', 'birth'])"
            ]
          },
          "metadata": {},
          "execution_count": 50
        }
      ]
    },
    {
      "cell_type": "code",
      "source": [
        "# 파이썬 3.0 이후에는 key() 함수 호출시 리스트를 리턴했는데 3.0 이후에는 객체를 리턴하도록 변경되었음\n",
        "list (a.keys())   # 3.0 이후에도 리스트로 뽑고 싶다면 list() 함수를 사용하면 된다."
      ],
      "metadata": {
        "colab": {
          "base_uri": "https://localhost:8080/"
        },
        "id": "2J_kOV9l2YZZ",
        "outputId": "6183f808-20e9-4159-ba3b-4fda1dff577c"
      },
      "execution_count": 51,
      "outputs": [
        {
          "output_type": "execute_result",
          "data": {
            "text/plain": [
              "['name', 'phone', 'birth']"
            ]
          },
          "metadata": {},
          "execution_count": 51
        }
      ]
    },
    {
      "cell_type": "code",
      "source": [
        "a.values()    # .values() 함수는 value값만 모아서 리턴해준다"
      ],
      "metadata": {
        "colab": {
          "base_uri": "https://localhost:8080/"
        },
        "id": "7aZ4N2JZ4kbS",
        "outputId": "f46d4cf5-723a-44ce-9935-179e8cafa7be"
      },
      "execution_count": 52,
      "outputs": [
        {
          "output_type": "execute_result",
          "data": {
            "text/plain": [
              "dict_values(['KimGiWon', '010-8888-9999', '0108'])"
            ]
          },
          "metadata": {},
          "execution_count": 52
        }
      ]
    },
    {
      "cell_type": "code",
      "source": [
        "a.items()   # .items() 함수는 key와 value값 다 객체로 리턴해준다"
      ],
      "metadata": {
        "colab": {
          "base_uri": "https://localhost:8080/"
        },
        "id": "CiOJ4S6T5BAh",
        "outputId": "494bccdd-7037-4c75-9c5f-d4394a149978"
      },
      "execution_count": 53,
      "outputs": [
        {
          "output_type": "execute_result",
          "data": {
            "text/plain": [
              "dict_items([('name', 'KimGiWon'), ('phone', '010-8888-9999'), ('birth', '0108')])"
            ]
          },
          "metadata": {},
          "execution_count": 53
        }
      ]
    },
    {
      "cell_type": "code",
      "source": [
        "a.clear()   # .clear()함수는 딕셔너리 안의 모든 함수를 삭제한다\n",
        "a"
      ],
      "metadata": {
        "colab": {
          "base_uri": "https://localhost:8080/"
        },
        "id": "KACXU-Ux5Q1R",
        "outputId": "63dba0cf-8d20-4eb6-d4b6-57df2c24658c"
      },
      "execution_count": 54,
      "outputs": [
        {
          "output_type": "execute_result",
          "data": {
            "text/plain": [
              "{}"
            ]
          },
          "metadata": {},
          "execution_count": 54
        }
      ]
    },
    {
      "cell_type": "markdown",
      "source": [
        "집합 자료형\n",
        "\n",
        "집합 자료형은 집합에 관련된 것들을 쉽게 처리하기 위해 만든 자료형이다"
      ],
      "metadata": {
        "id": "Hd7vR9fEkZhg"
      }
    },
    {
      "cell_type": "code",
      "source": [
        "# 집합 자료형은 set() 명령어를 통해 만들 수 있다\n",
        "s1 = set([1, 2, 3])\n",
        "s1"
      ],
      "metadata": {
        "colab": {
          "base_uri": "https://localhost:8080/"
        },
        "id": "75TE8BkckYcx",
        "outputId": "4635d290-5b4e-4e5e-890b-dbb1cd9008e5"
      },
      "execution_count": 12,
      "outputs": [
        {
          "output_type": "execute_result",
          "data": {
            "text/plain": [
              "{1, 2, 3}"
            ]
          },
          "metadata": {},
          "execution_count": 12
        }
      ]
    },
    {
      "cell_type": "code",
      "source": [
        "s2= set(\"Hello!!!\")    # 집합 자료형은 순서가 없고 중복을 허용하지 않는다\n",
        "s2"
      ],
      "metadata": {
        "colab": {
          "base_uri": "https://localhost:8080/"
        },
        "id": "785mqOVXmdOh",
        "outputId": "b2f78e7d-0bcd-46a2-a22a-1f21f1b4c5e7"
      },
      "execution_count": 18,
      "outputs": [
        {
          "output_type": "execute_result",
          "data": {
            "text/plain": [
              "{'!', 'H', 'e', 'l', 'o'}"
            ]
          },
          "metadata": {},
          "execution_count": 18
        }
      ]
    },
    {
      "cell_type": "code",
      "source": [
        "s1 = set([1, 2, 3])\n",
        "l1 = list(s1)           # 집합 자료형에 있는 요솟값을 인덱싱으로 접근 하려면 리스트나 튜플로 전환 후 가능\n",
        "l1"
      ],
      "metadata": {
        "colab": {
          "base_uri": "https://localhost:8080/"
        },
        "id": "3mHnCQh-nhiB",
        "outputId": "b8c0f56d-423b-4f4b-bdca-22beeb1a07fb"
      },
      "execution_count": 19,
      "outputs": [
        {
          "output_type": "execute_result",
          "data": {
            "text/plain": [
              "[1, 2, 3]"
            ]
          },
          "metadata": {},
          "execution_count": 19
        }
      ]
    },
    {
      "cell_type": "code",
      "source": [
        "l1[1]"
      ],
      "metadata": {
        "colab": {
          "base_uri": "https://localhost:8080/"
        },
        "id": "xV1cLuu8oLiZ",
        "outputId": "46f2ab6b-4088-4e00-aa28-17cb663d8d75"
      },
      "execution_count": 20,
      "outputs": [
        {
          "output_type": "execute_result",
          "data": {
            "text/plain": [
              "2"
            ]
          },
          "metadata": {},
          "execution_count": 20
        }
      ]
    },
    {
      "cell_type": "code",
      "source": [
        "t1 = tuple(s1)\n",
        "t1"
      ],
      "metadata": {
        "colab": {
          "base_uri": "https://localhost:8080/"
        },
        "id": "fivXM9r6oQ7S",
        "outputId": "e4457cbc-fe7e-4427-c090-b702be443d9b"
      },
      "execution_count": 21,
      "outputs": [
        {
          "output_type": "execute_result",
          "data": {
            "text/plain": [
              "(1, 2, 3)"
            ]
          },
          "metadata": {},
          "execution_count": 21
        }
      ]
    },
    {
      "cell_type": "code",
      "source": [
        "t1[2]"
      ],
      "metadata": {
        "colab": {
          "base_uri": "https://localhost:8080/"
        },
        "id": "lzrW_u1DoXCR",
        "outputId": "9bc0668c-4d94-4f4d-c190-6ff2e42999b1"
      },
      "execution_count": 22,
      "outputs": [
        {
          "output_type": "execute_result",
          "data": {
            "text/plain": [
              "3"
            ]
          },
          "metadata": {},
          "execution_count": 22
        }
      ]
    },
    {
      "cell_type": "code",
      "source": [
        "# 집합형(set) 자료형은 합, 차, 교집합을 구할 때 용이 하다\n",
        "s1 = set({1, 2, 3, 4, 5, 6})\n",
        "s2 = set({4, 5, 6, 7, 8, 9})\n",
        "# &는 교집합  |은 합집합  -는 차집합을 구할 때 사용된다\n",
        "s1 | s2\n",
        "# s1.union(s2)  union() 함수를 이용해서 값을 도출할 수 있다"
      ],
      "metadata": {
        "colab": {
          "base_uri": "https://localhost:8080/"
        },
        "id": "fvV__8X9ocIa",
        "outputId": "d0a49431-9d04-420d-e55e-92769faac303"
      },
      "execution_count": 24,
      "outputs": [
        {
          "output_type": "execute_result",
          "data": {
            "text/plain": [
              "{1, 2, 3, 4, 5, 6, 7, 8, 9}"
            ]
          },
          "metadata": {},
          "execution_count": 24
        }
      ]
    },
    {
      "cell_type": "code",
      "source": [
        "s1 - s2\n",
        "#s1.difference(s2)   difference() 함수를 이용해서 값을 도출할 수 있다"
      ],
      "metadata": {
        "colab": {
          "base_uri": "https://localhost:8080/"
        },
        "id": "C-o5_gXso4gy",
        "outputId": "ad4aec3f-b87c-4aba-a0d3-55fc404b1a1c"
      },
      "execution_count": 25,
      "outputs": [
        {
          "output_type": "execute_result",
          "data": {
            "text/plain": [
              "{1, 2, 3}"
            ]
          },
          "metadata": {},
          "execution_count": 25
        }
      ]
    },
    {
      "cell_type": "code",
      "source": [
        "s2 - s1\n",
        "#s2.difference(s1)"
      ],
      "metadata": {
        "colab": {
          "base_uri": "https://localhost:8080/"
        },
        "id": "xELuhxmTpLei",
        "outputId": "68aec068-f02b-4eae-b842-a7dad2820221"
      },
      "execution_count": 26,
      "outputs": [
        {
          "output_type": "execute_result",
          "data": {
            "text/plain": [
              "{7, 8, 9}"
            ]
          },
          "metadata": {},
          "execution_count": 26
        }
      ]
    },
    {
      "cell_type": "code",
      "source": [
        "s1 & s2\n",
        "# s1.intersection(s2) inetrsection() 함수를 이용해서 값을 도출할 수 있다."
      ],
      "metadata": {
        "colab": {
          "base_uri": "https://localhost:8080/"
        },
        "id": "bb4BjuXzpQvS",
        "outputId": "12405748-306a-42fd-d28f-50f66ed3f52f"
      },
      "execution_count": 27,
      "outputs": [
        {
          "output_type": "execute_result",
          "data": {
            "text/plain": [
              "{4, 5, 6}"
            ]
          },
          "metadata": {},
          "execution_count": 27
        }
      ]
    },
    {
      "cell_type": "code",
      "source": [
        "s1 = set([1, 2, 3])\n",
        "s1.add(4)   # .add 명령어를 사용하면 이미 만들어진 자료형에 값을 추가할 수 있다.(add는 1개의 값만 추가)\n",
        "s1"
      ],
      "metadata": {
        "colab": {
          "base_uri": "https://localhost:8080/"
        },
        "id": "yh8UIBbgqhpT",
        "outputId": "0951ff9f-67f3-424c-f1f6-530e0dac260f"
      },
      "execution_count": 28,
      "outputs": [
        {
          "output_type": "execute_result",
          "data": {
            "text/plain": [
              "{1, 2, 3, 4}"
            ]
          },
          "metadata": {},
          "execution_count": 28
        }
      ]
    },
    {
      "cell_type": "code",
      "source": [
        "s1 = set([1, 2, 3])\n",
        "s1.update([4, 5, 6])    # .update 명령어를 사용하면 여러개의 값도 한번에 추가 가능하다\n",
        "s1"
      ],
      "metadata": {
        "colab": {
          "base_uri": "https://localhost:8080/"
        },
        "id": "9RnqinVVq8Qa",
        "outputId": "445dcb11-ecf1-4e08-880d-cd5adc9abf8c"
      },
      "execution_count": 29,
      "outputs": [
        {
          "output_type": "execute_result",
          "data": {
            "text/plain": [
              "{1, 2, 3, 4, 5, 6}"
            ]
          },
          "metadata": {},
          "execution_count": 29
        }
      ]
    },
    {
      "cell_type": "code",
      "source": [
        "s1 = set([1, 2, 3])\n",
        "s1.remove(2)    # .remove 명령어로 특정값을 제거할 수 있다\n",
        "s1"
      ],
      "metadata": {
        "colab": {
          "base_uri": "https://localhost:8080/"
        },
        "id": "3yZzvesnrqFz",
        "outputId": "3284fe24-d670-47fc-8d2a-1c37754875ca"
      },
      "execution_count": 30,
      "outputs": [
        {
          "output_type": "execute_result",
          "data": {
            "text/plain": [
              "{1, 3}"
            ]
          },
          "metadata": {},
          "execution_count": 30
        }
      ]
    },
    {
      "cell_type": "markdown",
      "source": [
        "불(**Bool**ean) 자료형은 참(True)과 거짓(False)을 나타내는 자료형이다\n",
        "\n",
        "참(True)이나 거짓(False)은 파이썬 예약어로 true, false와 같이 작성하면 안되고 첫 문자를 반드시 대문자로 작성 해야한다"
      ],
      "metadata": {
        "id": "AuPvQuOlsPuL"
      }
    },
    {
      "cell_type": "code",
      "source": [
        "a = True  # 따옴표로 문자열을 감싸지 않아도 bool자료형으로 지정된다\n",
        "type(a)"
      ],
      "metadata": {
        "colab": {
          "base_uri": "https://localhost:8080/"
        },
        "id": "zQ17mpjCtIQM",
        "outputId": "856ef212-94d5-482d-e43f-39882750339c"
      },
      "execution_count": 31,
      "outputs": [
        {
          "output_type": "execute_result",
          "data": {
            "text/plain": [
              "bool"
            ]
          },
          "metadata": {},
          "execution_count": 31
        }
      ]
    },
    {
      "cell_type": "code",
      "source": [
        "b = False\n",
        "type(b)"
      ],
      "metadata": {
        "colab": {
          "base_uri": "https://localhost:8080/"
        },
        "id": "Im0ua1RQtX7s",
        "outputId": "34c58a81-1512-4a91-c572-ce5f7fc83dc0"
      },
      "execution_count": 32,
      "outputs": [
        {
          "output_type": "execute_result",
          "data": {
            "text/plain": [
              "bool"
            ]
          },
          "metadata": {},
          "execution_count": 32
        }
      ]
    },
    {
      "cell_type": "code",
      "source": [
        "# 문자열, 리스트, 튜플, 딕셔너리등의 값이 비어있다면 거짓이되고 비어있지 않으면 참이 된다.\n",
        "if []:\n",
        "  print(\"참\")\n",
        "else:\n",
        "  print(\"거짓\")"
      ],
      "metadata": {
        "colab": {
          "base_uri": "https://localhost:8080/"
        },
        "id": "euuVFS0N5n4a",
        "outputId": "1949d352-bec7-47f9-d38f-d3703a50a812"
      },
      "execution_count": 55,
      "outputs": [
        {
          "output_type": "stream",
          "name": "stdout",
          "text": [
            "거짓\n"
          ]
        }
      ]
    },
    {
      "cell_type": "code",
      "source": [
        "if [1, 2, 3]:\n",
        "  print(\"참\")\n",
        "else:\n",
        "  print(\"거짓\")"
      ],
      "metadata": {
        "colab": {
          "base_uri": "https://localhost:8080/"
        },
        "id": "eRh2T1Pr6P4i",
        "outputId": "19effd3b-14bf-4928-fff7-f7679765f0a5"
      },
      "execution_count": 56,
      "outputs": [
        {
          "output_type": "stream",
          "name": "stdout",
          "text": [
            "참\n"
          ]
        }
      ]
    },
    {
      "cell_type": "code",
      "source": [
        "bool('Python')"
      ],
      "metadata": {
        "colab": {
          "base_uri": "https://localhost:8080/"
        },
        "id": "d8Z6YzbE6Z6K",
        "outputId": "be1b64e9-c130-4b58-fb9d-ed4e764b1f2f"
      },
      "execution_count": 57,
      "outputs": [
        {
          "output_type": "execute_result",
          "data": {
            "text/plain": [
              "True"
            ]
          },
          "metadata": {},
          "execution_count": 57
        }
      ]
    },
    {
      "cell_type": "code",
      "source": [
        "bool('')"
      ],
      "metadata": {
        "colab": {
          "base_uri": "https://localhost:8080/"
        },
        "id": "MrKefJXw6dei",
        "outputId": "63f410c5-d2fc-4d8c-fe8f-945d430ebe16"
      },
      "execution_count": 58,
      "outputs": [
        {
          "output_type": "execute_result",
          "data": {
            "text/plain": [
              "False"
            ]
          },
          "metadata": {},
          "execution_count": 58
        }
      ]
    },
    {
      "cell_type": "markdown",
      "source": [
        "자료형 값을 저장하는 공간 변수\n",
        "\n",
        "파이썬에서 사용되는 변수는 객체를 가리키는 것이라고도 말할 수 있다."
      ],
      "metadata": {
        "id": "iB2UIoCA6ijC"
      }
    },
    {
      "cell_type": "code",
      "source": [
        "a = [1, 2, 3]\n",
        "# 위의 코드가 리스트 형식의 객체이며 자동으로 메모리가 생성되며 변수 a는 [1,2,3]를 지닌 메모리의 주소지가 되었다"
      ],
      "metadata": {
        "id": "oA34mDLr6iAC"
      },
      "execution_count": 60,
      "outputs": []
    },
    {
      "cell_type": "code",
      "source": [
        "id(a)   # id()함수는 변수가 가리키고 있는 객체의 주소값를 리턴해주는 파이썬의 내장 함수다\n",
        "# ↓a가 가리키고 있는 리스트의 주소값이다"
      ],
      "metadata": {
        "colab": {
          "base_uri": "https://localhost:8080/"
        },
        "id": "OuOO0iWp_EpE",
        "outputId": "a6bb513a-1a9c-43c0-c010-3bde6c70af94"
      },
      "execution_count": 61,
      "outputs": [
        {
          "output_type": "execute_result",
          "data": {
            "text/plain": [
              "133945464775872"
            ]
          },
          "metadata": {},
          "execution_count": 61
        }
      ]
    },
    {
      "cell_type": "code",
      "source": [
        "a = [1, 2, 3]\n",
        "b = a     # b변수는 a변수와 동일하게 되었다\n",
        "b"
      ],
      "metadata": {
        "colab": {
          "base_uri": "https://localhost:8080/"
        },
        "id": "6jddT-o9_k90",
        "outputId": "a37bebc0-2301-4d42-a84d-c0774d057479"
      },
      "execution_count": 62,
      "outputs": [
        {
          "output_type": "execute_result",
          "data": {
            "text/plain": [
              "[1, 2, 3]"
            ]
          },
          "metadata": {},
          "execution_count": 62
        }
      ]
    },
    {
      "cell_type": "code",
      "source": [
        "a[1] = 4\n",
        "b         # 리스트는 a를 변경하였지만 b도 동일한 객체를 가리키기에 b도 a와 동일한 값을 도출한다"
      ],
      "metadata": {
        "colab": {
          "base_uri": "https://localhost:8080/"
        },
        "id": "ZWM-9iEwBLOu",
        "outputId": "ae08f0fd-5373-4154-a957-e8c3db7ad64e"
      },
      "execution_count": 63,
      "outputs": [
        {
          "output_type": "execute_result",
          "data": {
            "text/plain": [
              "[1, 4, 3]"
            ]
          },
          "metadata": {},
          "execution_count": 63
        }
      ]
    },
    {
      "cell_type": "code",
      "source": [
        "a = [1, 2, 3]\n",
        "b = a[:]\n",
        "a[1] = 4    # [:]을 사용해서 복사하면 a의 값을 변경 하여도 b리스트는 아무런 영향을 받지 않는다.\n",
        "a"
      ],
      "metadata": {
        "colab": {
          "base_uri": "https://localhost:8080/"
        },
        "id": "fozVzmq8Bbtt",
        "outputId": "a5c468b8-057b-4583-fce3-ca194eecb209"
      },
      "execution_count": 64,
      "outputs": [
        {
          "output_type": "execute_result",
          "data": {
            "text/plain": [
              "[1, 4, 3]"
            ]
          },
          "metadata": {},
          "execution_count": 64
        }
      ]
    },
    {
      "cell_type": "code",
      "source": [
        "b"
      ],
      "metadata": {
        "colab": {
          "base_uri": "https://localhost:8080/"
        },
        "id": "119N5T_gB5PO",
        "outputId": "3dd3b9b7-809c-40f4-8525-a87da004e393"
      },
      "execution_count": 65,
      "outputs": [
        {
          "output_type": "execute_result",
          "data": {
            "text/plain": [
              "[1, 2, 3]"
            ]
          },
          "metadata": {},
          "execution_count": 65
        }
      ]
    },
    {
      "cell_type": "code",
      "source": [
        "from copy import copy   # from copy import copy 파이썬 묘듈을 적어야 copy 함수를 사용할 수 있음\n",
        "a = [1, 2, 3]\n",
        "b = copy(a)     # b = a[:]와 동일하다\n",
        "b is a"
      ],
      "metadata": {
        "colab": {
          "base_uri": "https://localhost:8080/"
        },
        "id": "crQVY6YUCOiN",
        "outputId": "e1187608-5583-4bca-e221-1c164d776a39"
      },
      "execution_count": 68,
      "outputs": [
        {
          "output_type": "execute_result",
          "data": {
            "text/plain": [
              "False"
            ]
          },
          "metadata": {},
          "execution_count": 68
        }
      ]
    },
    {
      "cell_type": "code",
      "source": [
        "a = [1, 2, 3]\n",
        "b = a.copy()  # from copy import copy 묘듈을 안쓰고도 복사하는 방법\n",
        "b is a"
      ],
      "metadata": {
        "colab": {
          "base_uri": "https://localhost:8080/"
        },
        "id": "bFe0wa4rDLRe",
        "outputId": "28af6282-8306-42e2-dbe8-f94ecc7d17c0"
      },
      "execution_count": 69,
      "outputs": [
        {
          "output_type": "execute_result",
          "data": {
            "text/plain": [
              "False"
            ]
          },
          "metadata": {},
          "execution_count": 69
        }
      ]
    },
    {
      "cell_type": "code",
      "source": [
        "# 튜플로도 변수를 넣을 수 있다\n",
        "a, b = ('python', 'life')   # (a, b) = 'python', 'life' 도 동일한 값을 도출할 수 있다(튜플은 괄호 생략 가능)\n",
        "a"
      ],
      "metadata": {
        "colab": {
          "base_uri": "https://localhost:8080/",
          "height": 35
        },
        "id": "1P5glgHpEAZ2",
        "outputId": "81d96d26-780a-410d-f3ed-eec8a8719a36"
      },
      "execution_count": 71,
      "outputs": [
        {
          "output_type": "execute_result",
          "data": {
            "text/plain": [
              "'python'"
            ],
            "application/vnd.google.colaboratory.intrinsic+json": {
              "type": "string"
            }
          },
          "metadata": {},
          "execution_count": 71
        }
      ]
    },
    {
      "cell_type": "code",
      "source": [
        "b"
      ],
      "metadata": {
        "colab": {
          "base_uri": "https://localhost:8080/",
          "height": 35
        },
        "id": "-UByK8-PEOsX",
        "outputId": "922577b9-f159-4a5a-eb50-34fc99fdf82e"
      },
      "execution_count": 72,
      "outputs": [
        {
          "output_type": "execute_result",
          "data": {
            "text/plain": [
              "'life'"
            ],
            "application/vnd.google.colaboratory.intrinsic+json": {
              "type": "string"
            }
          },
          "metadata": {},
          "execution_count": 72
        }
      ]
    },
    {
      "cell_type": "code",
      "source": [
        "# 리스트 변수\n",
        "[a, b] = ['python', 'life']\n",
        "a"
      ],
      "metadata": {
        "colab": {
          "base_uri": "https://localhost:8080/",
          "height": 35
        },
        "id": "yLeDdEW3EfI2",
        "outputId": "f6ec81ee-3b7c-4f2d-b025-962516feea75"
      },
      "execution_count": 73,
      "outputs": [
        {
          "output_type": "execute_result",
          "data": {
            "text/plain": [
              "'python'"
            ],
            "application/vnd.google.colaboratory.intrinsic+json": {
              "type": "string"
            }
          },
          "metadata": {},
          "execution_count": 73
        }
      ]
    },
    {
      "cell_type": "code",
      "source": [
        "# 여러개의 변수에 같은 값 대입\n",
        "a = b = 'Python'\n",
        "a"
      ],
      "metadata": {
        "colab": {
          "base_uri": "https://localhost:8080/",
          "height": 35
        },
        "id": "R2v5BGotEpxf",
        "outputId": "f40fed39-700f-4fca-ddc2-c5cadc8cc3a8"
      },
      "execution_count": 74,
      "outputs": [
        {
          "output_type": "execute_result",
          "data": {
            "text/plain": [
              "'Python'"
            ],
            "application/vnd.google.colaboratory.intrinsic+json": {
              "type": "string"
            }
          },
          "metadata": {},
          "execution_count": 74
        }
      ]
    },
    {
      "cell_type": "code",
      "source": [
        "b"
      ],
      "metadata": {
        "colab": {
          "base_uri": "https://localhost:8080/",
          "height": 35
        },
        "id": "8nlbPyAEEyVu",
        "outputId": "59a178ea-a1f5-403a-8f7e-95c64a1c01bd"
      },
      "execution_count": 75,
      "outputs": [
        {
          "output_type": "execute_result",
          "data": {
            "text/plain": [
              "'Python'"
            ],
            "application/vnd.google.colaboratory.intrinsic+json": {
              "type": "string"
            }
          },
          "metadata": {},
          "execution_count": 75
        }
      ]
    },
    {
      "cell_type": "code",
      "source": [
        "# 변수 바꾸기\n",
        "a = 3\n",
        "b = 5\n",
        "a, b = b,a\n",
        "a"
      ],
      "metadata": {
        "colab": {
          "base_uri": "https://localhost:8080/"
        },
        "id": "mDHgYdpnEzjv",
        "outputId": "6a84ed84-326e-46a8-8a15-ab6b0bc7e49c"
      },
      "execution_count": 76,
      "outputs": [
        {
          "output_type": "execute_result",
          "data": {
            "text/plain": [
              "5"
            ]
          },
          "metadata": {},
          "execution_count": 76
        }
      ]
    },
    {
      "cell_type": "code",
      "source": [
        "b"
      ],
      "metadata": {
        "colab": {
          "base_uri": "https://localhost:8080/"
        },
        "id": "SjKobmZrE-4X",
        "outputId": "b7663406-6249-4520-ee04-2deebb3f21cf"
      },
      "execution_count": 77,
      "outputs": [
        {
          "output_type": "execute_result",
          "data": {
            "text/plain": [
              "3"
            ]
          },
          "metadata": {},
          "execution_count": 77
        }
      ]
    }
  ]
}