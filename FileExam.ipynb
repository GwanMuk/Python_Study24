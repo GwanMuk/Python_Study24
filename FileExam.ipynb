{
  "nbformat": 4,
  "nbformat_minor": 0,
  "metadata": {
    "colab": {
      "provenance": [],
      "authorship_tag": "ABX9TyPftQiM9YrrsR0uJMtRzdnE",
      "include_colab_link": true
    },
    "kernelspec": {
      "name": "python3",
      "display_name": "Python 3"
    },
    "language_info": {
      "name": "python"
    }
  },
  "cells": [
    {
      "cell_type": "markdown",
      "metadata": {
        "id": "view-in-github",
        "colab_type": "text"
      },
      "source": [
        "<a href=\"https://colab.research.google.com/github/GwanMuk/Pytion_Study24/blob/master/FileExam.ipynb\" target=\"_parent\"><img src=\"https://colab.research.google.com/assets/colab-badge.svg\" alt=\"Open In Colab\"/></a>"
      ]
    },
    {
      "cell_type": "markdown",
      "source": [
        "File 읽고 쓰기 연습\n",
        "\n",
        "파이썬은 실무에서 엑셀파일을 .csv파일로 저장하여 불러와 데이터 분석등을 한다.\n",
        "\n",
        ".csv는 엑셀에서 표에있는 값을 텍스트로 저장하는 다른이름으로 저장 기법을 말함.\n",
        "\n",
        "혀냊 코랩으로 실습을 진행하면 구글에서 제공하는 vm을 사용함\n",
        "\n",
        "리눅스 커널로 되어있어 content 디렉토리에 저장됨\n",
        "\n",
        "c:\\ 으로 되어있는 것은 윈도우 커널로 파이참에서 실습함\n"
      ],
      "metadata": {
        "id": "f529pf8TTOEq"
      }
    },
    {
      "cell_type": "code",
      "execution_count": 2,
      "metadata": {
        "id": "g5eXeSG1TNMr"
      },
      "outputs": [],
      "source": [
        "# 파일 생성하기 실습\n",
        "\n",
        "f = open(\"NewFile.txt\",'w')  # open() 파일을 연다.\n",
        "for i in range(1,11):        # 1~10까지 숫자 범위 만들어 i에 넣음\n",
        "  data = \"%d번째 줄입니다.\\n\" % i\n",
        "  f.write(data)             # data값을 파일에 기록한다\n",
        "\n",
        "f.close()                   # 열 파일을 닫는다.\n",
        "\n",
        "# 파일의 권한 부여\n",
        "# 'w' : 쓰기 가능 모드\n",
        "# 'r' : 읽기만 가능 모드\n",
        "# 'a' : 추가모드(파일 마지막에 새로운 내용 추가)"
      ]
    },
    {
      "cell_type": "code",
      "source": [
        "# 저장된 파일내용 가져와 출력하기\n",
        "\n",
        "f = open(\"NewFile.txt\", 'r')\n",
        "line = f.readline()   # 첫줄에 내용 가져와 line변수에 넣음\n",
        "print(line)\n",
        "f.close()"
      ],
      "metadata": {
        "colab": {
          "base_uri": "https://localhost:8080/"
        },
        "id": "GtI9-hlqYK1D",
        "outputId": "1b167c8e-a13c-4d45-c77e-930d55c31893"
      },
      "execution_count": 4,
      "outputs": [
        {
          "output_type": "stream",
          "name": "stdout",
          "text": [
            "1번째 줄입니다.\n",
            "\n"
          ]
        }
      ]
    },
    {
      "cell_type": "code",
      "source": [
        "# 무한루프 while로 가져오기\n",
        "f = open(\"NewFile.txt\", 'r')\n",
        "while True:                   # 무한루프 동작\n",
        "  line = f.readline()         # 한 줄씩 읽기\n",
        "  if not line: break          # 마지막 줄인지 확인 : 중단\n",
        "  print(line)                 # 출력\n",
        "f.close()                     # 파일 닫기"
      ],
      "metadata": {
        "colab": {
          "base_uri": "https://localhost:8080/"
        },
        "id": "0ao0aQo0YyFz",
        "outputId": "3672e460-7ba5-41f0-eb3c-32ebff2584cb"
      },
      "execution_count": 5,
      "outputs": [
        {
          "output_type": "stream",
          "name": "stdout",
          "text": [
            "1번째 줄입니다.\n",
            "\n",
            "2번째 줄입니다.\n",
            "\n",
            "3번째 줄입니다.\n",
            "\n",
            "4번째 줄입니다.\n",
            "\n",
            "5번째 줄입니다.\n",
            "\n",
            "6번째 줄입니다.\n",
            "\n",
            "7번째 줄입니다.\n",
            "\n",
            "8번째 줄입니다.\n",
            "\n",
            "9번째 줄입니다.\n",
            "\n",
            "10번째 줄입니다.\n",
            "\n"
          ]
        }
      ]
    },
    {
      "cell_type": "code",
      "source": [
        "# .readlines()\n",
        "f = open(\"NewFile.txt\", 'r')\n",
        "lines = f.readlines()     # 새파일텍스트 문자열을 리스트로 만듦\n",
        "for line in lines :\n",
        "    print(line.strip())           # 리스트 내용 출력\n",
        "            # .strip() 매서드는 줄 끝의 줄 바꿈 문자를 제거함\n",
        "f.close()"
      ],
      "metadata": {
        "colab": {
          "base_uri": "https://localhost:8080/"
        },
        "id": "pNVr7lulZcy8",
        "outputId": "63e7f589-f4b4-496b-d678-756b3dfd8d3a"
      },
      "execution_count": 10,
      "outputs": [
        {
          "output_type": "stream",
          "name": "stdout",
          "text": [
            "1번째 줄입니다.\n",
            "2번째 줄입니다.\n",
            "3번째 줄입니다.\n",
            "4번째 줄입니다.\n",
            "5번째 줄입니다.\n",
            "6번째 줄입니다.\n",
            "7번째 줄입니다.\n",
            "8번째 줄입니다.\n",
            "9번째 줄입니다.\n",
            "10번째 줄입니다.\n"
          ]
        }
      ]
    },
    {
      "cell_type": "code",
      "source": [
        "# read() 함수 사용\n",
        "\n",
        "f = open(\"NewFile.txt\", 'r')\n",
        "data = f.read()       # .read 매서드는 파일 내용 전체를 문자열로 반환함\n",
        "print(data)\n",
        "f.close()"
      ],
      "metadata": {
        "id": "FltLEZBgaSGE"
      },
      "execution_count": null,
      "outputs": []
    },
    {
      "cell_type": "code",
      "source": [
        "# 파일에 새로운 내용을 추가해보기\n",
        "\n",
        "# 'w'의 특징은 파일을 열 때 이미 존재하는 파일이면 전에 내용이 사라짐\n",
        "f = open(\"NewFile.txt\",'w')  # open() 파일을 연다.\n",
        "for i in range(1,11):        # 1~10까지 숫자 범위 만들어 i에 넣음\n",
        "  data = \"%d번째 행입니다.\\n\" % i\n",
        "  f.write(data)             # data값을 파일에 기록한다\n",
        "\n",
        "f.close()                   # 열 파일을 닫는다.\n"
      ],
      "metadata": {
        "id": "DWBiPi4xbZ3M"
      },
      "execution_count": 11,
      "outputs": []
    },
    {
      "cell_type": "code",
      "source": [
        "# 'w'를 'a'로 변경하던디 파일명을 다른이름으로 저장해야 한다.\n",
        "\n",
        "f = open(\"NewFile.txt\", 'a')    # a 추가용\n",
        "for i in range(11,21):          # 11 ~ 20 번 범위\n",
        "    data = \"%d번째 줄입니다.\\n\" % i\n",
        "    f.write(data)\n",
        "f.close()"
      ],
      "metadata": {
        "id": "fXZgnjKycQ21"
      },
      "execution_count": 12,
      "outputs": []
    },
    {
      "cell_type": "code",
      "source": [
        "# with() 함수 사용해보기\n",
        "# 파일을 열면 (open) 항상 닫기를(close) 해야 함\n",
        "f = open(\"foo.txt\", 'w')\n",
        "f.write(\"Life is too short, you need python\")\n",
        "f.close()"
      ],
      "metadata": {
        "id": "ZMFCF7zNczp8"
      },
      "execution_count": 13,
      "outputs": []
    },
    {
      "cell_type": "code",
      "source": [
        "with open(\"foo.txt\", 'w') as f:\n",
        "    f.write(\"Life is too short, you need python\")\n",
        "    # f.close 파이썬은 자동으로 닫아줌"
      ],
      "metadata": {
        "id": "rn3q-NaOdpCV"
      },
      "execution_count": 14,
      "outputs": []
    }
  ]
}