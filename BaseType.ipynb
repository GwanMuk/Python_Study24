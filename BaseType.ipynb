{
  "nbformat": 4,
  "nbformat_minor": 0,
  "metadata": {
    "colab": {
      "provenance": [],
      "authorship_tag": "ABX9TyPnZvhMJG5msERSUNZxwcFI",
      "include_colab_link": true
    },
    "kernelspec": {
      "name": "python3",
      "display_name": "Python 3"
    },
    "language_info": {
      "name": "python"
    }
  },
  "cells": [
    {
      "cell_type": "markdown",
      "metadata": {
        "id": "view-in-github",
        "colab_type": "text"
      },
      "source": [
        "<a href=\"https://colab.research.google.com/github/GwanMuk/Pytion_Study24/blob/master/BaseType.ipynb\" target=\"_parent\"><img src=\"https://colab.research.google.com/assets/colab-badge.svg\" alt=\"Open In Colab\"/></a>"
      ]
    },
    {
      "cell_type": "markdown",
      "source": [
        "Python 프로그래밍 기초, 자료형\n",
        "\n",
        "1. 숫자형\n",
        "\n",
        "2. 문자열\n",
        "\n",
        "3. 리스트\n",
        "\n",
        "4. 튜플\n",
        "\n",
        "5. 딕셔너리\n",
        "\n",
        "6. 집합\n",
        "\n",
        "7. 불\n"
      ],
      "metadata": {
        "id": "ESMUfcqZVCpr"
      }
    },
    {
      "cell_type": "code",
      "execution_count": 3,
      "metadata": {
        "colab": {
          "base_uri": "https://localhost:8080/"
        },
        "id": "AWr3Vc6qTOGg",
        "outputId": "c7f4b95c-3d15-429f-96e5-b90a737d95a6"
      },
      "outputs": [
        {
          "output_type": "stream",
          "name": "stdout",
          "text": [
            "127\n",
            "2303\n"
          ]
        }
      ],
      "source": [
        "# <- 주석처리\n",
        "# 숫자형은 정수형, 실수형, 진수형이 있다.\n",
        "# 정수형(integer) : 양의 정수와 음의 정수, 숫자 0을 변수에 대입\n",
        "a = 123   # 양의 정수\n",
        "b = -123  # 음의 정수\n",
        "c = 0     # 숫자 0\n",
        "\n",
        "# 실수형(floating-point) : 소수점이 포함된 숫자\n",
        "\n",
        "d = 1.2\n",
        "e = -3.14\n",
        "\n",
        "# 지수 표현방법 : 많은 수치를 짧게 표현하기 위해서\n",
        "\n",
        "f = 4.24E10  # 4.24 * 10^10\n",
        "g = 4.24e-10 # 4.24 * 10^-10\n",
        "\n",
        "# 진수 표현방법 :\n",
        "# 8진수 (옥타 ; octal) -> 숫자 0에 알파벳o (대소문자가능)\n",
        "\n",
        "h = 0o177   # 177 8진수\n",
        "print(h)    # 127 10진수\n",
        "\n",
        "# 16진수 (헥사 : hexadecimal) -> 숫자 0에 알파벳x\n",
        "\n",
        "i = 0x8ff   # 8ff 16진수\n",
        "print(i)    # 2303 10진수\n"
      ]
    },
    {
      "cell_type": "markdown",
      "source": [
        "숫자형을 활용하기 위한 연산자들\n",
        "\n",
        "1. 시칙연산 : + , - , * , /\n",
        "2. 우선순위 : 괄호 -> * , / -> 앞쪽연산자\n"
      ],
      "metadata": {
        "id": "AUg0K_hiVHcs"
      }
    },
    {
      "cell_type": "code",
      "source": [
        "a = 3\n",
        "b = 4\n",
        "a + b"
      ],
      "metadata": {
        "colab": {
          "base_uri": "https://localhost:8080/"
        },
        "id": "YjHAD2dhdjM-",
        "outputId": "2861e908-860a-4084-a657-8a7bd8ed2814"
      },
      "execution_count": 4,
      "outputs": [
        {
          "output_type": "execute_result",
          "data": {
            "text/plain": [
              "7"
            ]
          },
          "metadata": {},
          "execution_count": 4
        }
      ]
    },
    {
      "cell_type": "code",
      "source": [
        "c - d"
      ],
      "metadata": {
        "colab": {
          "base_uri": "https://localhost:8080/"
        },
        "id": "8xqnOiYfeAdn",
        "outputId": "8b0d4998-a3de-40ba-c146-0cfe292bdf91"
      },
      "execution_count": 6,
      "outputs": [
        {
          "output_type": "execute_result",
          "data": {
            "text/plain": [
              "-1.2"
            ]
          },
          "metadata": {},
          "execution_count": 6
        }
      ]
    },
    {
      "cell_type": "code",
      "source": [
        "e * f"
      ],
      "metadata": {
        "colab": {
          "base_uri": "https://localhost:8080/"
        },
        "id": "INv2460BeTaX",
        "outputId": "7b5c4ef8-28c2-443d-a869-af06059aa265"
      },
      "execution_count": 7,
      "outputs": [
        {
          "output_type": "execute_result",
          "data": {
            "text/plain": [
              "-133136000000.0"
            ]
          },
          "metadata": {},
          "execution_count": 7
        }
      ]
    },
    {
      "cell_type": "code",
      "source": [
        "a / b"
      ],
      "metadata": {
        "colab": {
          "base_uri": "https://localhost:8080/"
        },
        "id": "YpRRzVbQeYsH",
        "outputId": "30ac35b8-3f78-4ba7-9f09-27b5c7b408be"
      },
      "execution_count": 8,
      "outputs": [
        {
          "output_type": "execute_result",
          "data": {
            "text/plain": [
              "0.75"
            ]
          },
          "metadata": {},
          "execution_count": 8
        }
      ]
    },
    {
      "cell_type": "code",
      "source": [
        "# 제곱 처리하는 방법\n",
        "a ** b   # 3^4"
      ],
      "metadata": {
        "colab": {
          "base_uri": "https://localhost:8080/"
        },
        "id": "9YPI2RCledM2",
        "outputId": "c4104e4b-c778-4aed-96e7-286aae042904"
      },
      "execution_count": 9,
      "outputs": [
        {
          "output_type": "execute_result",
          "data": {
            "text/plain": [
              "81"
            ]
          },
          "metadata": {},
          "execution_count": 9
        }
      ]
    },
    {
      "cell_type": "code",
      "source": [
        "# 나머지 처리하는 방법 (%)\n",
        "7 % 3    # 7을 3으로 나눈 나머지"
      ],
      "metadata": {
        "colab": {
          "base_uri": "https://localhost:8080/"
        },
        "id": "TBhurDrweoLg",
        "outputId": "667d8d0e-2cc4-40a0-9fde-986bf5e03303"
      },
      "execution_count": 11,
      "outputs": [
        {
          "output_type": "execute_result",
          "data": {
            "text/plain": [
              "1"
            ]
          },
          "metadata": {},
          "execution_count": 11
        }
      ]
    },
    {
      "cell_type": "code",
      "source": [
        "# 나눗셈 후 몫을 리턴하는 연산자(//)\n",
        "7 // 4"
      ],
      "metadata": {
        "colab": {
          "base_uri": "https://localhost:8080/"
        },
        "id": "8_38Cjv8f1oI",
        "outputId": "a73c7a2b-8b9f-444f-b9a0-6629ec431215"
      },
      "execution_count": 12,
      "outputs": [
        {
          "output_type": "execute_result",
          "data": {
            "text/plain": [
              "1"
            ]
          },
          "metadata": {},
          "execution_count": 12
        }
      ]
    },
    {
      "cell_type": "code",
      "source": [
        "# 복합 연산자 +=, -=, *=, /=, //=, %=, **=\n",
        "\n",
        "a = 2\n",
        "a=a+1\n",
        "print(a)\n",
        "\n",
        "a = 2\n",
        "a += 1\n",
        "print(a)\n",
        "\n",
        "a = 2\n",
        "a -= 1\n",
        "print(a)\n",
        "\n",
        "a = 2\n",
        "a *= 1\n",
        "print(a)\n",
        "\n",
        "a = 2\n",
        "a /= 1\n",
        "print(a)\n",
        "\n",
        "a = 2\n",
        "a //= 1\n",
        "print(a)\n",
        "\n",
        "a = 2\n",
        "a %= 1\n",
        "print(a)\n",
        "\n",
        "a = 2\n",
        "a **= 1\n",
        "print(a)"
      ],
      "metadata": {
        "colab": {
          "base_uri": "https://localhost:8080/"
        },
        "id": "Hq6wL5aEgTAP",
        "outputId": "047f37de-a4a5-409e-8036-0b1b7b7c58f9"
      },
      "execution_count": 14,
      "outputs": [
        {
          "output_type": "stream",
          "name": "stdout",
          "text": [
            "2\n",
            "3\n",
            "2\n",
            "2\n",
            "2.0\n",
            "2.0\n",
            "0.0\n",
            "0.0\n"
          ]
        }
      ]
    },
    {
      "cell_type": "code",
      "source": [
        "# 문자열 자료형 (string) : 연속된 문자들의 나열 \"\" 큰따음표\n",
        "\n",
        "# 큰따옴표\n",
        "\"Hello World\"\n",
        "\n",
        "# 작은따옴표\n",
        "'Hello World'\n",
        "\n",
        "# 큰따옴표를 3개를 연속으로 써서 양쪽으로 둘러싸기\n",
        "\"\"\"Hello World\"\"\"\n",
        "\n",
        "# 작은따옴표 3개를 연속으로 써서 양쪽으로 둘러싸기\n",
        "'''Hello World'''\n",
        "\n",
        "# food = 'Python's favorite food is perl'\n",
        "# SyntaxError: unterminated string literal (detected at line 15)\n",
        "food = \"Python's favorite food is perl\"\n",
        "print(food)"
      ],
      "metadata": {
        "colab": {
          "base_uri": "https://localhost:8080/"
        },
        "id": "04fl2AOjhISp",
        "outputId": "b3ab3588-66f7-4eeb-f98b-8af5d38289ae"
      },
      "execution_count": 20,
      "outputs": [
        {
          "output_type": "stream",
          "name": "stdout",
          "text": [
            "Python's favorite food is perl\n"
          ]
        }
      ]
    },
    {
      "cell_type": "code",
      "source": [
        "# 만약에 문자열 출력에 큰따옴표를 보여주고 싶을 때\n",
        "say = '\"Python is very easy.\" he says.'\n",
        "print(say)"
      ],
      "metadata": {
        "colab": {
          "base_uri": "https://localhost:8080/"
        },
        "id": "vMGz_X1ajHmS",
        "outputId": "0a0127fe-1863-448e-ca02-103fb3b031fe"
      },
      "execution_count": 19,
      "outputs": [
        {
          "output_type": "stream",
          "name": "stdout",
          "text": [
            "\"Python is very easy.\" he says.\n"
          ]
        }
      ]
    },
    {
      "cell_type": "code",
      "source": [
        "# 이스케이프문자 활용하기 \\n \\t \\r \\\\등... (역슬레쉬로 활용)\n",
        "\n",
        "food = 'Python\\'s favorite food is perl'\n",
        "say = \"\\\"Python is very easy.\\\" he says.\"\n",
        "print(food)\n",
        "print(say)"
      ],
      "metadata": {
        "colab": {
          "base_uri": "https://localhost:8080/"
        },
        "id": "_Tr2y-tJjfQR",
        "outputId": "d0d6a849-5a2a-4c0b-b49c-51c32124a19d"
      },
      "execution_count": 21,
      "outputs": [
        {
          "output_type": "stream",
          "name": "stdout",
          "text": [
            "Python's favorite food is perl\n",
            "\"Python is very easy.\" he says.\n"
          ]
        }
      ]
    },
    {
      "cell_type": "code",
      "source": [
        "# 여러줄로 출력 \\n 엔터효과\n",
        "multiline = \"Life is too short\\nYou need python\"\n",
        "print(multiline)"
      ],
      "metadata": {
        "colab": {
          "base_uri": "https://localhost:8080/"
        },
        "id": "wr48baC7nF07",
        "outputId": "cd71be93-844b-40ed-f61f-f532ad5aba3e"
      },
      "execution_count": 22,
      "outputs": [
        {
          "output_type": "stream",
          "name": "stdout",
          "text": [
            "Life is too short\n",
            "You need python\n"
          ]
        }
      ]
    },
    {
      "cell_type": "code",
      "source": [
        "# 여러줄로 출력이 가능한 \"\"\"\n",
        "multiline = \"\"\"\n",
        "Life is too short\n",
        "You need python\n",
        "\"\"\"\n",
        "print(multiline)"
      ],
      "metadata": {
        "colab": {
          "base_uri": "https://localhost:8080/"
        },
        "id": "6Sh4UieVnlNz",
        "outputId": "52292593-6b65-46e7-a50f-a10ded343d03"
      },
      "execution_count": 23,
      "outputs": [
        {
          "output_type": "stream",
          "name": "stdout",
          "text": [
            "\n",
            "Life is too short\n",
            "You need python\n",
            "\n"
          ]
        }
      ]
    },
    {
      "cell_type": "code",
      "source": [
        "multiline = '''\n",
        "Life is too short\n",
        "You need python\n",
        "'''\n",
        "print(multiline)"
      ],
      "metadata": {
        "colab": {
          "base_uri": "https://localhost:8080/"
        },
        "id": "qUewYOxMo-pk",
        "outputId": "826fffcb-da9a-475b-9c23-f08b9873129e"
      },
      "execution_count": 24,
      "outputs": [
        {
          "output_type": "stream",
          "name": "stdout",
          "text": [
            "\n",
            "Life is too short\n",
            "You need python\n",
            "\n"
          ]
        }
      ]
    },
    {
      "cell_type": "markdown",
      "source": [
        "# 이스케이프 코드 종류\n",
        "\n",
        "* \\n : 문자열 안에서 줄을 바꿈\n",
        "* \\t : 탭 간격으로 줄을 밀어낸다\n",
        "* \\\\ : \\를 출력한다\n",
        "* \\' : '를 출력한다\n",
        "* \\\" : \"를 출력한다\n",
        "* \\r : 캐리지 리턴(과거의 타자기 효과 : 커서를 현재줄 맨 앞으로 보냄)\n",
        "* \\f : 폼피드 (줄 바꿈 문자. 커서를 현재 줄의 다음 줄로 이동)\n",
        "* \\a : 벨소리 (출력할 때 삑소리가 남)\n",
        "* \\b : 백 스페이스\n",
        "* \\000 : Null문자"
      ],
      "metadata": {
        "id": "0vl78GDhpTKV"
      }
    },
    {
      "cell_type": "code",
      "source": [
        "# 문자열 연산자 (문자열을 더하거나 곱할 수 있다.)\n",
        "head = \"Python\"\n",
        "tail = \" is fun~!\"\n",
        "head + tail"
      ],
      "metadata": {
        "colab": {
          "base_uri": "https://localhost:8080/",
          "height": 35
        },
        "id": "0N2CpNG8pLCc",
        "outputId": "cc2635c9-addb-45da-b7a4-52e7f74c40fd"
      },
      "execution_count": 25,
      "outputs": [
        {
          "output_type": "execute_result",
          "data": {
            "text/plain": [
              "'Python is fun~!'"
            ],
            "application/vnd.google.colaboratory.intrinsic+json": {
              "type": "string"
            }
          },
          "metadata": {},
          "execution_count": 25
        }
      ]
    },
    {
      "cell_type": "code",
      "source": [
        "body = \"Python \"\n",
        "body * 5"
      ],
      "metadata": {
        "colab": {
          "base_uri": "https://localhost:8080/",
          "height": 35
        },
        "id": "28x0oo2XreMF",
        "outputId": "5e52e730-cdb3-4f35-d50b-f15fe2af7442"
      },
      "execution_count": 29,
      "outputs": [
        {
          "output_type": "execute_result",
          "data": {
            "text/plain": [
              "'Python Python Python Python Python '"
            ],
            "application/vnd.google.colaboratory.intrinsic+json": {
              "type": "string"
            }
          },
          "metadata": {},
          "execution_count": 29
        }
      ]
    },
    {
      "cell_type": "code",
      "source": [
        "print(\"=\" * 30)\n",
        "print(\"|| Welcome to Python World  ||\")\n",
        "print(\"=\" * 30)"
      ],
      "metadata": {
        "colab": {
          "base_uri": "https://localhost:8080/"
        },
        "id": "SaeicZlyruiN",
        "outputId": "dcd84e2d-db7b-40e6-bb58-9fc7c334ce20"
      },
      "execution_count": 36,
      "outputs": [
        {
          "output_type": "stream",
          "name": "stdout",
          "text": [
            "==============================\n",
            "|| Welcome to Python World  ||\n",
            "==============================\n"
          ]
        }
      ]
    },
    {
      "cell_type": "code",
      "source": [
        "# 문자열의 길이를 구함\n",
        "a = \"Life is too short\" # 띄어쓰기 포함\n",
        "len(a)"
      ],
      "metadata": {
        "colab": {
          "base_uri": "https://localhost:8080/"
        },
        "id": "n2-LoUmIsJiF",
        "outputId": "e038a2d3-d4e7-4fed-a026-b5d7a2109a45"
      },
      "execution_count": 37,
      "outputs": [
        {
          "output_type": "execute_result",
          "data": {
            "text/plain": [
              "17"
            ]
          },
          "metadata": {},
          "execution_count": 37
        }
      ]
    },
    {
      "cell_type": "code",
      "source": [
        "# 문자열 인덱싱, 슬라이싱\n",
        "# 문자열은 문자를 배열로 만들어 놓음(0번 인덱스부터 적용됨)\n",
        "a = \"Life is too short. You need Python\"\n",
        "#    0               16               33\n",
        "#   -33              -18              -1\n",
        "a[16]"
      ],
      "metadata": {
        "colab": {
          "base_uri": "https://localhost:8080/",
          "height": 35
        },
        "id": "up6WRsNps_VV",
        "outputId": "9a45341b-c9e8-484a-834f-03a8829ab1bf"
      },
      "execution_count": 60,
      "outputs": [
        {
          "output_type": "execute_result",
          "data": {
            "text/plain": [
              "'t'"
            ],
            "application/vnd.google.colaboratory.intrinsic+json": {
              "type": "string"
            }
          },
          "metadata": {},
          "execution_count": 60
        }
      ]
    },
    {
      "cell_type": "code",
      "source": [
        "# 문자열을 뒤에서부터 읽기 위해서 -기호를 붙임\n",
        "a[-1]"
      ],
      "metadata": {
        "colab": {
          "base_uri": "https://localhost:8080/",
          "height": 35
        },
        "id": "Y8JVTGwKtxmY",
        "outputId": "18a4e882-1b58-48fc-f6a9-f5f5816356d5"
      },
      "execution_count": 39,
      "outputs": [
        {
          "output_type": "execute_result",
          "data": {
            "text/plain": [
              "'n'"
            ],
            "application/vnd.google.colaboratory.intrinsic+json": {
              "type": "string"
            }
          },
          "metadata": {},
          "execution_count": 39
        }
      ]
    },
    {
      "cell_type": "code",
      "source": [
        "a[-18]"
      ],
      "metadata": {
        "colab": {
          "base_uri": "https://localhost:8080/",
          "height": 35
        },
        "id": "CXqOPeIFtwA2",
        "outputId": "ab6120dc-0884-4448-951a-e0eaae220ca3"
      },
      "execution_count": 42,
      "outputs": [
        {
          "output_type": "execute_result",
          "data": {
            "text/plain": [
              "'t'"
            ],
            "application/vnd.google.colaboratory.intrinsic+json": {
              "type": "string"
            }
          },
          "metadata": {},
          "execution_count": 42
        }
      ]
    },
    {
      "cell_type": "code",
      "source": [
        "# 문자열 추출하기\n",
        "b = a[0]+a[1]+a[2]+a[3]\n",
        "print(b)"
      ],
      "metadata": {
        "colab": {
          "base_uri": "https://localhost:8080/"
        },
        "id": "F-e29PREuhQf",
        "outputId": "68cd889c-89b8-4b2c-e481-9e38d8449fbe"
      },
      "execution_count": 43,
      "outputs": [
        {
          "output_type": "stream",
          "name": "stdout",
          "text": [
            "Life\n"
          ]
        }
      ]
    },
    {
      "cell_type": "code",
      "source": [
        "# 슬라이싱 기법\n",
        "a[0:4] # 0 <= a<4\n",
        "a"
      ],
      "metadata": {
        "colab": {
          "base_uri": "https://localhost:8080/",
          "height": 35
        },
        "id": "T6-2S16huwao",
        "outputId": "aef60e9b-4a98-44fb-85e1-49627f9f574e"
      },
      "execution_count": 61,
      "outputs": [
        {
          "output_type": "execute_result",
          "data": {
            "text/plain": [
              "'Life is too short. You need Python'"
            ],
            "application/vnd.google.colaboratory.intrinsic+json": {
              "type": "string"
            }
          },
          "metadata": {},
          "execution_count": 61
        }
      ]
    },
    {
      "cell_type": "code",
      "source": [
        "a[12:17]"
      ],
      "metadata": {
        "colab": {
          "base_uri": "https://localhost:8080/",
          "height": 35
        },
        "id": "yaWryV5AvR4v",
        "outputId": "b69dd34f-ee7e-4dfb-ed37-ab569d8dfb60"
      },
      "execution_count": 50,
      "outputs": [
        {
          "output_type": "execute_result",
          "data": {
            "text/plain": [
              "'short'"
            ],
            "application/vnd.google.colaboratory.intrinsic+json": {
              "type": "string"
            }
          },
          "metadata": {},
          "execution_count": 50
        }
      ]
    },
    {
      "cell_type": "code",
      "source": [
        "a[19:] # 19 인덱스 부터 끝까지"
      ],
      "metadata": {
        "colab": {
          "base_uri": "https://localhost:8080/",
          "height": 35
        },
        "id": "pUqil6yBvaIx",
        "outputId": "7fac88ff-1bd9-45db-f870-9cc2d6686342"
      },
      "execution_count": 52,
      "outputs": [
        {
          "output_type": "execute_result",
          "data": {
            "text/plain": [
              "'You need Python'"
            ],
            "application/vnd.google.colaboratory.intrinsic+json": {
              "type": "string"
            }
          },
          "metadata": {},
          "execution_count": 52
        }
      ]
    },
    {
      "cell_type": "code",
      "source": [
        "a[:18] # 처음부터 18 인덱스 까지"
      ],
      "metadata": {
        "colab": {
          "base_uri": "https://localhost:8080/",
          "height": 35
        },
        "id": "cKZScn1xvZGf",
        "outputId": "7c7b9374-e3c9-43dc-979b-a3d83b07d77d"
      },
      "execution_count": 54,
      "outputs": [
        {
          "output_type": "execute_result",
          "data": {
            "text/plain": [
              "'Life is too short.'"
            ],
            "application/vnd.google.colaboratory.intrinsic+json": {
              "type": "string"
            }
          },
          "metadata": {},
          "execution_count": 54
        }
      ]
    },
    {
      "cell_type": "code",
      "source": [
        "a[:] # 처음부터 끝까지"
      ],
      "metadata": {
        "colab": {
          "base_uri": "https://localhost:8080/",
          "height": 35
        },
        "id": "dg5yC7pUvwWn",
        "outputId": "557b22bc-6d4b-4681-c23f-d9d5a3beef1e"
      },
      "execution_count": 55,
      "outputs": [
        {
          "output_type": "execute_result",
          "data": {
            "text/plain": [
              "'Life is too short. You need Python'"
            ],
            "application/vnd.google.colaboratory.intrinsic+json": {
              "type": "string"
            }
          },
          "metadata": {},
          "execution_count": 55
        }
      ]
    },
    {
      "cell_type": "code",
      "source": [
        "# 슬라이싱 활용해보기\n",
        "a = \"20241218Rainy\"\n",
        "date = a[:8]\n",
        "weather = a[8:]\n",
        "print(date)\n",
        "print(weather)"
      ],
      "metadata": {
        "colab": {
          "base_uri": "https://localhost:8080/"
        },
        "id": "a7k9-qZGv9S_",
        "outputId": "b1857bd6-c5ea-46b0-a092-aa7811301d12"
      },
      "execution_count": 67,
      "outputs": [
        {
          "output_type": "stream",
          "name": "stdout",
          "text": [
            "20241218\n",
            "Rainy\n"
          ]
        }
      ]
    },
    {
      "cell_type": "code",
      "source": [
        "year = a[:4]\n",
        "month = a[4:6]\n",
        "day = a[6:8]\n",
        "weather = a[8:]\n",
        "print(year)\n",
        "print(month)\n",
        "print(day)\n",
        "print(weather)\n",
        "type(year)"
      ],
      "metadata": {
        "colab": {
          "base_uri": "https://localhost:8080/"
        },
        "id": "BEv1NBdYwrvo",
        "outputId": "8b0b22ae-e960-47df-ee22-4c111f99065c"
      },
      "execution_count": 71,
      "outputs": [
        {
          "output_type": "stream",
          "name": "stdout",
          "text": [
            "2024\n",
            "12\n",
            "18\n",
            "Rainy\n"
          ]
        },
        {
          "output_type": "execute_result",
          "data": {
            "text/plain": [
              "str"
            ]
          },
          "metadata": {},
          "execution_count": 71
        }
      ]
    },
    {
      "cell_type": "code",
      "source": [
        "# 만약에 Pithon 문자열을 만들었는데 Python으로 교체가 될까?\n",
        "\n",
        "a = \"pytion\"\n",
        "#a[1] = 'i'\n",
        "#TypeError: 'str' object does not support item assignment"
      ],
      "metadata": {
        "colab": {
          "base_uri": "https://localhost:8080/",
          "height": 183
        },
        "id": "bQ7Rp84VxzQY",
        "outputId": "c9d792d4-8011-4c63-8bf7-b5452c624326"
      },
      "execution_count": 72,
      "outputs": [
        {
          "output_type": "error",
          "ename": "TypeError",
          "evalue": "'str' object does not support item assignment",
          "traceback": [
            "\u001b[0;31m---------------------------------------------------------------------------\u001b[0m",
            "\u001b[0;31mTypeError\u001b[0m                                 Traceback (most recent call last)",
            "\u001b[0;32m<ipython-input-72-8e2a71c5752c>\u001b[0m in \u001b[0;36m<cell line: 4>\u001b[0;34m()\u001b[0m\n\u001b[1;32m      2\u001b[0m \u001b[0;34m\u001b[0m\u001b[0m\n\u001b[1;32m      3\u001b[0m \u001b[0ma\u001b[0m \u001b[0;34m=\u001b[0m \u001b[0;34m\"pytion\"\u001b[0m\u001b[0;34m\u001b[0m\u001b[0;34m\u001b[0m\u001b[0m\n\u001b[0;32m----> 4\u001b[0;31m \u001b[0ma\u001b[0m\u001b[0;34m[\u001b[0m\u001b[0;36m1\u001b[0m\u001b[0;34m]\u001b[0m \u001b[0;34m=\u001b[0m \u001b[0;34m'i'\u001b[0m\u001b[0;34m\u001b[0m\u001b[0;34m\u001b[0m\u001b[0m\n\u001b[0m",
            "\u001b[0;31mTypeError\u001b[0m: 'str' object does not support item assignment"
          ]
        }
      ]
    },
    {
      "cell_type": "code",
      "source": [
        "b = \"Pition\"\n",
        "c = b[:1] + 'y' +b[2:]\n",
        "c # 결론은 String 타입은 수정이 불가하다! -> 매서드를 활용하던디 쪼개서 붙여야 한다"
      ],
      "metadata": {
        "colab": {
          "base_uri": "https://localhost:8080/",
          "height": 35
        },
        "id": "DrPor25B1KRB",
        "outputId": "0fb2e0bf-9e76-4713-8d4c-00b7cd5e4fd0"
      },
      "execution_count": 74,
      "outputs": [
        {
          "output_type": "execute_result",
          "data": {
            "text/plain": [
              "'Pytion'"
            ],
            "application/vnd.google.colaboratory.intrinsic+json": {
              "type": "string"
            }
          },
          "metadata": {},
          "execution_count": 74
        }
      ]
    },
    {
      "cell_type": "code",
      "source": [
        "# 문자열 포멧팅 -> 자바에서 printf와 같은 기능\n",
        "# 포멧팅은 동적 출력을 위한  기능으로 \"\"안에 정수나 문자열등을 추가할 때 활용\n",
        "\"I eat %d apples.\" % 3\n",
        "# %d는 포멧팅 코드\n",
        "# 마지막에 있는 %는 동적 값을 삽입한다"
      ],
      "metadata": {
        "colab": {
          "base_uri": "https://localhost:8080/",
          "height": 35
        },
        "id": "9nAA5Ees1l35",
        "outputId": "67e2037b-511b-4337-c323-7bfe20bb87dd"
      },
      "execution_count": 75,
      "outputs": [
        {
          "output_type": "execute_result",
          "data": {
            "text/plain": [
              "'I eat 3 apples.'"
            ],
            "application/vnd.google.colaboratory.intrinsic+json": {
              "type": "string"
            }
          },
          "metadata": {},
          "execution_count": 75
        }
      ]
    },
    {
      "cell_type": "code",
      "source": [
        "\"| eat %s apples.\" % \"five\"\n",
        "# %s는 문자열이 동적으로 삽입\n",
        "# 마지막에 % 뒤에는 문자열을 넣어야 함으로 \"\", '' 처리를 해야 한다."
      ],
      "metadata": {
        "colab": {
          "base_uri": "https://localhost:8080/",
          "height": 35
        },
        "id": "KjkY9m1e2wQS",
        "outputId": "f55608ae-ead8-4e49-8ea6-89351c57ca3f"
      },
      "execution_count": 76,
      "outputs": [
        {
          "output_type": "execute_result",
          "data": {
            "text/plain": [
              "'| eat five apples.'"
            ],
            "application/vnd.google.colaboratory.intrinsic+json": {
              "type": "string"
            }
          },
          "metadata": {},
          "execution_count": 76
        }
      ]
    },
    {
      "cell_type": "code",
      "source": [
        "number = 3\n",
        "\"I eat %d apples.\" % number"
      ],
      "metadata": {
        "colab": {
          "base_uri": "https://localhost:8080/",
          "height": 35
        },
        "id": "Pcw3y9W63PYD",
        "outputId": "e7ac68f7-5c22-475c-8b87-aa2dd2d8526d"
      },
      "execution_count": 77,
      "outputs": [
        {
          "output_type": "execute_result",
          "data": {
            "text/plain": [
              "'I eat 3 apples.'"
            ],
            "application/vnd.google.colaboratory.intrinsic+json": {
              "type": "string"
            }
          },
          "metadata": {},
          "execution_count": 77
        }
      ]
    },
    {
      "cell_type": "code",
      "source": [
        "number = 10\n",
        "day = \"three\"\n",
        "\"I ate %d apples. so I was sick for %s days.\" % (number, day)\n",
        "# 동적 매개 값을 2개이상 넣고 싶으면 괄호안에 쉽표로 넣음\n",
        "# 단, 순서와 타입은 맞출 것"
      ],
      "metadata": {
        "colab": {
          "base_uri": "https://localhost:8080/",
          "height": 35
        },
        "id": "8qXnXCb63j3K",
        "outputId": "970b1e29-b5cd-41ba-bde1-f470929aaaf7"
      },
      "execution_count": 79,
      "outputs": [
        {
          "output_type": "execute_result",
          "data": {
            "text/plain": [
              "'I ate 10 apples. so I was sick for three days.'"
            ],
            "application/vnd.google.colaboratory.intrinsic+json": {
              "type": "string"
            }
          },
          "metadata": {},
          "execution_count": 79
        }
      ]
    },
    {
      "cell_type": "markdown",
      "source": [
        "\n",
        "\n",
        "*   %s : 문자열(String)\n",
        "*   %d : 정수(Integer)\n",
        "*   %c : 문자(character) -> 1개 문자\n",
        "*   %f : 실수(부동소수점)\n",
        "*   %o : 8진수\n",
        "*   %x : 16진수\n",
        "\n"
      ],
      "metadata": {
        "id": "KLP7cvi04UCT"
      }
    },
    {
      "cell_type": "code",
      "source": [
        "# 파이썬의 장점(%s는 정수나 실수를 자동타입으로 문자열 변환을 지원함)\n",
        "\"I have %s apples\" % 3"
      ],
      "metadata": {
        "colab": {
          "base_uri": "https://localhost:8080/",
          "height": 35
        },
        "id": "eSFl9uxl47i8",
        "outputId": "a77d8508-a249-4121-fbf0-fbb1f8c42ef1"
      },
      "execution_count": 80,
      "outputs": [
        {
          "output_type": "execute_result",
          "data": {
            "text/plain": [
              "'I have 3 apples'"
            ],
            "application/vnd.google.colaboratory.intrinsic+json": {
              "type": "string"
            }
          },
          "metadata": {},
          "execution_count": 80
        }
      ]
    },
    {
      "cell_type": "code",
      "source": [
        "\"rate is %s\" %3.14"
      ],
      "metadata": {
        "colab": {
          "base_uri": "https://localhost:8080/",
          "height": 35
        },
        "id": "XNox_uyX5PLT",
        "outputId": "bca0ed51-9609-43da-e776-ffd9e887be7d"
      },
      "execution_count": 81,
      "outputs": [
        {
          "output_type": "execute_result",
          "data": {
            "text/plain": [
              "'rate is 3.14'"
            ],
            "application/vnd.google.colaboratory.intrinsic+json": {
              "type": "string"
            }
          },
          "metadata": {},
          "execution_count": 81
        }
      ]
    },
    {
      "cell_type": "code",
      "source": [
        "# 문자열 안에 %를 넣고 싶을 때 -> Error is 98%\n",
        "\"Error is %d%.\" %98"
      ],
      "metadata": {
        "colab": {
          "base_uri": "https://localhost:8080/",
          "height": 165
        },
        "id": "OApp9Yc95iK7",
        "outputId": "5d4db656-e75a-4799-e9e1-dffc7b65a6fc"
      },
      "execution_count": 82,
      "outputs": [
        {
          "output_type": "error",
          "ename": "ValueError",
          "evalue": "incomplete format",
          "traceback": [
            "\u001b[0;31m---------------------------------------------------------------------------\u001b[0m",
            "\u001b[0;31mValueError\u001b[0m                                Traceback (most recent call last)",
            "\u001b[0;32m<ipython-input-82-6763a1f769e9>\u001b[0m in \u001b[0;36m<cell line: 2>\u001b[0;34m()\u001b[0m\n\u001b[1;32m      1\u001b[0m \u001b[0;31m# 문자열 안에 %를 넣고 싶으 때 -> Error is 98%\u001b[0m\u001b[0;34m\u001b[0m\u001b[0;34m\u001b[0m\u001b[0m\n\u001b[0;32m----> 2\u001b[0;31m \u001b[0;34m\"Error is %d%.\"\u001b[0m \u001b[0;34m%\u001b[0m\u001b[0;36m98\u001b[0m\u001b[0;34m\u001b[0m\u001b[0;34m\u001b[0m\u001b[0m\n\u001b[0m",
            "\u001b[0;31mValueError\u001b[0m: incomplete format"
          ]
        }
      ]
    },
    {
      "cell_type": "code",
      "source": [
        "\"Error is %d%%.\" %98\n",
        "# 확률을 출력 할 때 %를 예약어로 2번 써야(%%) 문자열 처리 됨"
      ],
      "metadata": {
        "colab": {
          "base_uri": "https://localhost:8080/",
          "height": 35
        },
        "id": "FGlPaIhv6ASr",
        "outputId": "c66250ab-fd2c-498b-f6cb-c192e165925f"
      },
      "execution_count": 83,
      "outputs": [
        {
          "output_type": "execute_result",
          "data": {
            "text/plain": [
              "'Error is 98%.'"
            ],
            "application/vnd.google.colaboratory.intrinsic+json": {
              "type": "string"
            }
          },
          "metadata": {},
          "execution_count": 83
        }
      ]
    },
    {
      "cell_type": "code",
      "source": [
        "# 포멧팅 숫자 처리 (문자는 기본적으로 왼쪽 정렬, 숫자는 오른쪽 정렬)\n",
        "\"%10s\" % \"hi\"\n",
        "\"%-10s MBC Ai\" % \"hi\"  # -10 문자열 10칸을 여백으로 생성하고 그 안쪽에 문자를 왼쪽정렬해서 넣음"
      ],
      "metadata": {
        "colab": {
          "base_uri": "https://localhost:8080/",
          "height": 35
        },
        "id": "fgakbdhT6NpL",
        "outputId": "1998f1c0-49e6-4f14-cdf1-152b3a0e8572"
      },
      "execution_count": 87,
      "outputs": [
        {
          "output_type": "execute_result",
          "data": {
            "text/plain": [
              "'hi         MBC Ai'"
            ],
            "application/vnd.google.colaboratory.intrinsic+json": {
              "type": "string"
            }
          },
          "metadata": {},
          "execution_count": 87
        }
      ]
    },
    {
      "cell_type": "code",
      "source": [
        "# 소수점 포맷팅\n",
        "\"%10.4f\" %333333333333.1415926253   # 0.4는 소수점 4자리까지 출력(반올림)\n",
        "# 정수쪽 10은 기본자리수가 10자리지만 넘치면 알아서 늘려줌"
      ],
      "metadata": {
        "colab": {
          "base_uri": "https://localhost:8080/",
          "height": 35
        },
        "id": "TuM-gXby8Ael",
        "outputId": "5168714f-4719-4c81-aae4-d283d0f7076d"
      },
      "execution_count": 94,
      "outputs": [
        {
          "output_type": "execute_result",
          "data": {
            "text/plain": [
              "'333333333333.1416'"
            ],
            "application/vnd.google.colaboratory.intrinsic+json": {
              "type": "string"
            }
          },
          "metadata": {},
          "execution_count": 94
        }
      ]
    },
    {
      "cell_type": "code",
      "source": [
        "# 포맷팅에 가독성을 높이기 위해서 .format()매서드를 만들어 놓았다.\n",
        "\"I eat {0} apples\" .format(3)"
      ],
      "metadata": {
        "colab": {
          "base_uri": "https://localhost:8080/",
          "height": 35
        },
        "id": "WTuA6upL9eFG",
        "outputId": "603a6a4c-1323-4b17-bf26-5f4bc3e85ead"
      },
      "execution_count": 95,
      "outputs": [
        {
          "output_type": "execute_result",
          "data": {
            "text/plain": [
              "'I eat 3 apples'"
            ],
            "application/vnd.google.colaboratory.intrinsic+json": {
              "type": "string"
            }
          },
          "metadata": {},
          "execution_count": 95
        }
      ]
    },
    {
      "cell_type": "code",
      "source": [
        "\"I eat {0} apples\" .format(\"다섯개\")"
      ],
      "metadata": {
        "colab": {
          "base_uri": "https://localhost:8080/",
          "height": 35
        },
        "id": "lrQBVvsj-BVG",
        "outputId": "bf3cc505-04d6-4eac-8657-08f5d676b639"
      },
      "execution_count": 96,
      "outputs": [
        {
          "output_type": "execute_result",
          "data": {
            "text/plain": [
              "'I eat 다섯개 apples'"
            ],
            "application/vnd.google.colaboratory.intrinsic+json": {
              "type": "string"
            }
          },
          "metadata": {},
          "execution_count": 96
        }
      ]
    },
    {
      "cell_type": "code",
      "source": [
        "number = 3\n",
        "\"I eat {0} apples\" .format(number)"
      ],
      "metadata": {
        "colab": {
          "base_uri": "https://localhost:8080/",
          "height": 35
        },
        "id": "CwhUl7eT-Oem",
        "outputId": "b2901cb8-5814-42e4-aff0-b13e2a2f6d83"
      },
      "execution_count": 97,
      "outputs": [
        {
          "output_type": "execute_result",
          "data": {
            "text/plain": [
              "'I eat 3 apples'"
            ],
            "application/vnd.google.colaboratory.intrinsic+json": {
              "type": "string"
            }
          },
          "metadata": {},
          "execution_count": 97
        }
      ]
    },
    {
      "cell_type": "code",
      "source": [
        "number = 10\n",
        "day = \"three\"\n",
        "\"I ate {1} apples. so I was sick for {0} days.\" .format(number, day)"
      ],
      "metadata": {
        "colab": {
          "base_uri": "https://localhost:8080/",
          "height": 35
        },
        "id": "XCAt6VlC-bqG",
        "outputId": "7ea7ba69-8703-4543-e458-a5cef5fb05ca"
      },
      "execution_count": 99,
      "outputs": [
        {
          "output_type": "execute_result",
          "data": {
            "text/plain": [
              "'I ate three apples. so I was sick for 10 days.'"
            ],
            "application/vnd.google.colaboratory.intrinsic+json": {
              "type": "string"
            }
          },
          "metadata": {},
          "execution_count": 99
        }
      ]
    },
    {
      "cell_type": "code",
      "source": [
        "\"I ate {number} apples. so I was sick for {day} days.\" .format(number=10, day=3)"
      ],
      "metadata": {
        "colab": {
          "base_uri": "https://localhost:8080/",
          "height": 35
        },
        "id": "t4H1F0aF-69G",
        "outputId": "0a49581a-c1f0-4ffd-8cbb-9536fa8e1233"
      },
      "execution_count": 100,
      "outputs": [
        {
          "output_type": "execute_result",
          "data": {
            "text/plain": [
              "'I ate 10 apples. so I was sick for 3 days.'"
            ],
            "application/vnd.google.colaboratory.intrinsic+json": {
              "type": "string"
            }
          },
          "metadata": {},
          "execution_count": 100
        }
      ]
    },
    {
      "cell_type": "code",
      "source": [
        "\"I ate {0} apples. so I was sick for {day} days.\" .format(10, day=3)"
      ],
      "metadata": {
        "colab": {
          "base_uri": "https://localhost:8080/",
          "height": 35
        },
        "id": "X_7fH3D1_Mw2",
        "outputId": "f73dab83-17d5-495a-a2cc-784e0b4cdac4"
      },
      "execution_count": 101,
      "outputs": [
        {
          "output_type": "execute_result",
          "data": {
            "text/plain": [
              "'I ate 10 apples. so I was sick for 3 days.'"
            ],
            "application/vnd.google.colaboratory.intrinsic+json": {
              "type": "string"
            }
          },
          "metadata": {},
          "execution_count": 101
        }
      ]
    },
    {
      "cell_type": "code",
      "source": [
        "\"MBC AI {0:<10} Python\" .format(\"hi\")   # 왼쪽정렬\n",
        "\"MBC AI {0:>10} Python\" .format(\"hi\")   # 오른쪽 정렬\n",
        "\"MBC AI {0:^10} Python\" .format(\"hi\")   # 중앙 정렬\n"
      ],
      "metadata": {
        "colab": {
          "base_uri": "https://localhost:8080/",
          "height": 35
        },
        "id": "0QOWMBpY_gYH",
        "outputId": "3f821db5-a307-429d-eab4-98379265481b"
      },
      "execution_count": 105,
      "outputs": [
        {
          "output_type": "execute_result",
          "data": {
            "text/plain": [
              "'MBC AI     hi     Python'"
            ],
            "application/vnd.google.colaboratory.intrinsic+json": {
              "type": "string"
            }
          },
          "metadata": {},
          "execution_count": 105
        }
      ]
    },
    {
      "cell_type": "code",
      "source": [
        "\"{0:와^10}\".format(\"hi\")"
      ],
      "metadata": {
        "colab": {
          "base_uri": "https://localhost:8080/",
          "height": 35
        },
        "id": "M6h5oEp3LdoM",
        "outputId": "a5b6b7ce-8447-4417-d743-4dcdb05cbded"
      },
      "execution_count": 110,
      "outputs": [
        {
          "output_type": "execute_result",
          "data": {
            "text/plain": [
              "'와와와와hi와와와와'"
            ],
            "application/vnd.google.colaboratory.intrinsic+json": {
              "type": "string"
            }
          },
          "metadata": {},
          "execution_count": 110
        }
      ]
    },
    {
      "cell_type": "code",
      "source": [
        "\"{0:!<10}\".format(\"hi\")"
      ],
      "metadata": {
        "colab": {
          "base_uri": "https://localhost:8080/",
          "height": 35
        },
        "id": "cd9zc82SL3-0",
        "outputId": "f7076d50-65a2-4eec-90fb-6e2165d6cf57"
      },
      "execution_count": 111,
      "outputs": [
        {
          "output_type": "execute_result",
          "data": {
            "text/plain": [
              "'hi!!!!!!!!'"
            ],
            "application/vnd.google.colaboratory.intrinsic+json": {
              "type": "string"
            }
          },
          "metadata": {},
          "execution_count": 111
        }
      ]
    },
    {
      "cell_type": "code",
      "source": [
        "# 소수점 표현하기\n",
        "y = 3.987654321\n",
        "\"{0:10.4f}\".format(y) # 총 자리수 10자리 중에 소수점은 4자리로 출력"
      ],
      "metadata": {
        "colab": {
          "base_uri": "https://localhost:8080/",
          "height": 35
        },
        "id": "wuHpvdjpMKJk",
        "outputId": "f8262f1c-7880-4102-d994-4b8699b731c4"
      },
      "execution_count": 113,
      "outputs": [
        {
          "output_type": "execute_result",
          "data": {
            "text/plain": [
              "'    3.9877'"
            ],
            "application/vnd.google.colaboratory.intrinsic+json": {
              "type": "string"
            }
          },
          "metadata": {},
          "execution_count": 113
        }
      ]
    },
    {
      "cell_type": "code",
      "source": [
        "# { 문자 }를 출력하고 싶을 때\n",
        "\"{ 문자 }\".format()"
      ],
      "metadata": {
        "colab": {
          "base_uri": "https://localhost:8080/",
          "height": 165
        },
        "id": "LylokWNEMsLU",
        "outputId": "c0fe5bb8-c564-41fb-8235-06abec8ef912"
      },
      "execution_count": 114,
      "outputs": [
        {
          "output_type": "error",
          "ename": "KeyError",
          "evalue": "' 문자 '",
          "traceback": [
            "\u001b[0;31m---------------------------------------------------------------------------\u001b[0m",
            "\u001b[0;31mKeyError\u001b[0m                                  Traceback (most recent call last)",
            "\u001b[0;32m<ipython-input-114-055febcb9dd3>\u001b[0m in \u001b[0;36m<cell line: 2>\u001b[0;34m()\u001b[0m\n\u001b[1;32m      1\u001b[0m \u001b[0;31m# { 문자 }를 출력하고 싶을 때\u001b[0m\u001b[0;34m\u001b[0m\u001b[0;34m\u001b[0m\u001b[0m\n\u001b[0;32m----> 2\u001b[0;31m \u001b[0;34m\"{ 문자 }\"\u001b[0m\u001b[0;34m.\u001b[0m\u001b[0mformat\u001b[0m\u001b[0;34m(\u001b[0m\u001b[0;34m)\u001b[0m\u001b[0;34m\u001b[0m\u001b[0;34m\u001b[0m\u001b[0m\n\u001b[0m",
            "\u001b[0;31mKeyError\u001b[0m: ' 문자 '"
          ]
        }
      ]
    },
    {
      "cell_type": "code",
      "source": [
        "\"{{ 문자 }}\".format()\n",
        "# 예약 기호를 두번 기입하면 문자형태로 출력 가능"
      ],
      "metadata": {
        "colab": {
          "base_uri": "https://localhost:8080/",
          "height": 35
        },
        "id": "3fN9M0uNM_1c",
        "outputId": "74db2412-c95c-4164-a9f9-ac174791bb70"
      },
      "execution_count": 115,
      "outputs": [
        {
          "output_type": "execute_result",
          "data": {
            "text/plain": [
              "'{ 문자 }'"
            ],
            "application/vnd.google.colaboratory.intrinsic+json": {
              "type": "string"
            }
          },
          "metadata": {},
          "execution_count": 115
        }
      ]
    },
    {
      "cell_type": "code",
      "source": [
        "# 파이썬 3.6 이상 버전의 최신 포멧팅\n",
        "# .format()를 사용하지 않는 기법 -> 접두사로 f를 기입한다.\n",
        "\n",
        "name = \"김기원\"\n",
        "age = 42\n",
        "f\"\"\"나의 이름은 {name}입니다.\n",
        "나이는 {age+5}입니다.\"\"\"\n",
        "text = f\"\"\"나의 이름은 {name}입니다.\n",
        "나이는 {age+5}입니다.\"\"\"\n",
        "print(text)"
      ],
      "metadata": {
        "colab": {
          "base_uri": "https://localhost:8080/"
        },
        "id": "ZKYFmrvjNc19",
        "outputId": "471bec9f-7081-402a-ae99-51c6604a57dd"
      },
      "execution_count": 120,
      "outputs": [
        {
          "output_type": "stream",
          "name": "stdout",
          "text": [
            "나의 이름은 김기원입니다. \n",
            "나이는 47입니다.\n"
          ]
        }
      ]
    },
    {
      "cell_type": "code",
      "source": [
        "# 딕셔너리를 활용한 포멧팅 ( key : value )\n",
        "d = {'name':'홍길동', 'age':30}\n",
        "f'나의 이름은 {d[\"name\"]}입니다. 나이는 {d[\"age\"]}입니다.'"
      ],
      "metadata": {
        "colab": {
          "base_uri": "https://localhost:8080/",
          "height": 35
        },
        "id": "jhbj_NTcO7LO",
        "outputId": "e4d08ad6-5106-4e96-b0b6-49d20fa76d62"
      },
      "execution_count": 121,
      "outputs": [
        {
          "output_type": "execute_result",
          "data": {
            "text/plain": [
              "'나의 이름은 홍길동입니다. 나이는 30입니다.'"
            ],
            "application/vnd.google.colaboratory.intrinsic+json": {
              "type": "string"
            }
          },
          "metadata": {},
          "execution_count": 121
        }
      ]
    },
    {
      "cell_type": "code",
      "source": [
        "f'{\"hi\":<10}'"
      ],
      "metadata": {
        "colab": {
          "base_uri": "https://localhost:8080/",
          "height": 35
        },
        "id": "RgXuNvbwQA7W",
        "outputId": "87efc4d9-7f52-477a-b61a-e915a91b8a75"
      },
      "execution_count": 124,
      "outputs": [
        {
          "output_type": "execute_result",
          "data": {
            "text/plain": [
              "'hi        '"
            ],
            "application/vnd.google.colaboratory.intrinsic+json": {
              "type": "string"
            }
          },
          "metadata": {},
          "execution_count": 124
        }
      ]
    },
    {
      "cell_type": "code",
      "source": [
        "f'{\"hi\":=^10}'"
      ],
      "metadata": {
        "colab": {
          "base_uri": "https://localhost:8080/",
          "height": 35
        },
        "id": "rnf591JUQWKn",
        "outputId": "ddf3dced-5f69-4621-f2e1-0e762b8df410"
      },
      "execution_count": 125,
      "outputs": [
        {
          "output_type": "execute_result",
          "data": {
            "text/plain": [
              "'====hi===='"
            ],
            "application/vnd.google.colaboratory.intrinsic+json": {
              "type": "string"
            }
          },
          "metadata": {},
          "execution_count": 125
        }
      ]
    },
    {
      "cell_type": "code",
      "source": [
        "y=4.343254658678\n",
        "f'{y:_>10.5f}'"
      ],
      "metadata": {
        "colab": {
          "base_uri": "https://localhost:8080/",
          "height": 35
        },
        "id": "HQ9BmZzmQ9km",
        "outputId": "8dca5672-6989-4340-a48c-22980ea9f2fb"
      },
      "execution_count": 127,
      "outputs": [
        {
          "output_type": "execute_result",
          "data": {
            "text/plain": [
              "'___4.34325'"
            ],
            "application/vnd.google.colaboratory.intrinsic+json": {
              "type": "string"
            }
          },
          "metadata": {},
          "execution_count": 127
        }
      ]
    },
    {
      "cell_type": "code",
      "source": [
        "# { 문자 }로 출력하고 싶을 때\n",
        "f'{ 문자 }'"
      ],
      "metadata": {
        "colab": {
          "base_uri": "https://localhost:8080/",
          "height": 165
        },
        "id": "Ini3BFNjRmA_",
        "outputId": "1c5cf975-cddd-4c33-a17c-2d958c75a830"
      },
      "execution_count": 128,
      "outputs": [
        {
          "output_type": "error",
          "ename": "NameError",
          "evalue": "name '문자' is not defined",
          "traceback": [
            "\u001b[0;31m---------------------------------------------------------------------------\u001b[0m",
            "\u001b[0;31mNameError\u001b[0m                                 Traceback (most recent call last)",
            "\u001b[0;32m<ipython-input-128-3a88c073de1e>\u001b[0m in \u001b[0;36m<cell line: 2>\u001b[0;34m()\u001b[0m\n\u001b[1;32m      1\u001b[0m \u001b[0;31m# { 문자 }로 출력하고 싶을 때\u001b[0m\u001b[0;34m\u001b[0m\u001b[0;34m\u001b[0m\u001b[0m\n\u001b[0;32m----> 2\u001b[0;31m \u001b[0;34mf'{ 문자 }'\u001b[0m\u001b[0;34m\u001b[0m\u001b[0;34m\u001b[0m\u001b[0m\n\u001b[0m",
            "\u001b[0;31mNameError\u001b[0m: name '문자' is not defined"
          ]
        }
      ]
    },
    {
      "cell_type": "code",
      "source": [
        "f'{{ 문자 }}'"
      ],
      "metadata": {
        "colab": {
          "base_uri": "https://localhost:8080/",
          "height": 35
        },
        "id": "lEbmHciHRyJ_",
        "outputId": "f979dd2d-ef83-493f-daa0-c9be8369594e"
      },
      "execution_count": 129,
      "outputs": [
        {
          "output_type": "execute_result",
          "data": {
            "text/plain": [
              "'{ 문자 }'"
            ],
            "application/vnd.google.colaboratory.intrinsic+json": {
              "type": "string"
            }
          },
          "metadata": {},
          "execution_count": 129
        }
      ]
    },
    {
      "cell_type": "code",
      "source": [],
      "metadata": {
        "id": "EDLwDBgfR30v"
      },
      "execution_count": null,
      "outputs": []
    }
  ]
}