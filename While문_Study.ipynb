{
  "nbformat": 4,
  "nbformat_minor": 0,
  "metadata": {
    "colab": {
      "provenance": [],
      "authorship_tag": "ABX9TyMjZa5w3uceX/3MG7J3PikX",
      "include_colab_link": true
    },
    "kernelspec": {
      "name": "python3",
      "display_name": "Python 3"
    },
    "language_info": {
      "name": "python"
    }
  },
  "cells": [
    {
      "cell_type": "markdown",
      "metadata": {
        "id": "view-in-github",
        "colab_type": "text"
      },
      "source": [
        "<a href=\"https://colab.research.google.com/github/GwanMuk/Pytion_Study24/blob/master/While%EB%AC%B8_Study.ipynb\" target=\"_parent\"><img src=\"https://colab.research.google.com/assets/colab-badge.svg\" alt=\"Open In Colab\"/></a>"
      ]
    },
    {
      "cell_type": "markdown",
      "source": [
        "while문\n",
        "\n",
        "while문은 문장을 반복해서 수행해야 되는 경우 활용 (반복문)\n",
        "\n",
        "반복문은 여러 데이터를 처리해야 하는 경우 사용함\n",
        "\n",
        "if문에서 성정처리를 할 때 1명 데이터를 처리하지만 입력을 여러명 받아 더 큰 프로그램을 만들 수 있다.\n",
        "\n",
        "반복문은 while문과 for문으로 활용되는데 while문은 max가 없는 반복문일 경우 사용되고 for문은 max가 있는 경우 사용됨\n",
        "\n",
        "while 조건문 :\n",
        "    실행문1\n",
        "    실행문2\n",
        "    실행문3\n",
        "\n",
        "Java에서는 {}으로 실행문의 블럭을 만들지만 파이썬은 들여쓰기로 판단한다"
      ],
      "metadata": {
        "id": "PtU6zdlKfuA9"
      }
    },
    {
      "cell_type": "code",
      "source": [
        "# 열번 찍어 안넘어가는 나무 없다\n",
        "\n",
        "treeHit = 0\n",
        "while treeHit <10:    # 조건 treeHit < 10 : treeHit가 10보다 작으면\n",
        "    treeHit = treeHit + 1     # 반복중에 1씩 증가함\n",
        "    print(\"나무를 %d번 찍었습니다.\" % treeHit)\n",
        "    if treeHit == 10:         # 도끼로 찍은 나무의 타격 횟 수 10번인지 판단\n",
        "        print(\"나무가 넘어갑니다.\")\n",
        "    else :\n",
        "        print(\"나무가 아직 넘어가지 않았습니다.\")\n"
      ],
      "metadata": {
        "colab": {
          "base_uri": "https://localhost:8080/"
        },
        "id": "SuyAaWIsft1O",
        "outputId": "175ceb83-1bae-4a0e-f39a-f265f5dfad9d"
      },
      "execution_count": 1,
      "outputs": [
        {
          "output_type": "stream",
          "name": "stdout",
          "text": [
            "나무를 1번 찍었습니다.\n",
            "나무가 아직 넘어가지 않았습니다.\n",
            "나무를 2번 찍었습니다.\n",
            "나무가 아직 넘어가지 않았습니다.\n",
            "나무를 3번 찍었습니다.\n",
            "나무가 아직 넘어가지 않았습니다.\n",
            "나무를 4번 찍었습니다.\n",
            "나무가 아직 넘어가지 않았습니다.\n",
            "나무를 5번 찍었습니다.\n",
            "나무가 아직 넘어가지 않았습니다.\n",
            "나무를 6번 찍었습니다.\n",
            "나무가 아직 넘어가지 않았습니다.\n",
            "나무를 7번 찍었습니다.\n",
            "나무가 아직 넘어가지 않았습니다.\n",
            "나무를 8번 찍었습니다.\n",
            "나무가 아직 넘어가지 않았습니다.\n",
            "나무를 9번 찍었습니다.\n",
            "나무가 아직 넘어가지 않았습니다.\n",
            "나무를 10번 찍었습니다.\n",
            "나무가 넘어갑니다.\n"
          ]
        }
      ]
    },
    {
      "cell_type": "code",
      "execution_count": 2,
      "metadata": {
        "colab": {
          "base_uri": "https://localhost:8080/"
        },
        "id": "MOt4y9dvfdPI",
        "outputId": "9460bd5d-f5d3-44e5-f7b1-5aade5e9779a"
      },
      "outputs": [
        {
          "name": "stdout",
          "output_type": "stream",
          "text": [
            "\n",
            "1. 학생가입\n",
            "2. 성적입력\n",
            "3. 성적출력\n",
            "4. Quit\n",
            "\n",
            "Enter number:\n",
            "\n",
            "5\n",
            "\n",
            "1. 학생가입\n",
            "2. 성적입력\n",
            "3. 성적출력\n",
            "4. Quit\n",
            "\n",
            "Enter number:\n",
            "\n",
            "4\n"
          ]
        }
      ],
      "source": [
        "# 콘솔에서 프로그램 만들어 보기\n",
        "\n",
        "prompt = \"\"\"\n",
        "1. 학생가입\n",
        "2. 성적입력\n",
        "3. 성적출력\n",
        "4. Quit\n",
        "\n",
        "Enter number:\n",
        "\"\"\"\n",
        "\n",
        "number = 0              # 키보드로 전달되는 변수 초기값\n",
        "while number != 4 :     # 4가 아닐 때까지 반복문 -> 4입력시 while문 종료\n",
        "  print(prompt)         # 4가 아닐 때 prompt 출력\n",
        "  number = int(input()) # 반복중에 입력받은 프롬프트 비교 값\n",
        "\n"
      ]
    },
    {
      "cell_type": "code",
      "source": [
        "# 커피 자판기 프로그램\n",
        "\n",
        "coffee = 3        # 커피는 총 3잔이 준비 되어 있음\n",
        "money = 300        # 현재 입금된 금액은 300원\n",
        "while money :\n",
        "    print(\"돈을 받았으니 커피를 줍니다\")\n",
        "    coffee = coffee - 1   # 한 잔씩 소모시킴\n",
        "    print(\"남은 커피 수량 %d 잔\" % coffee)\n",
        "\n",
        "    if coffee == 0 :\n",
        "        print(\"커피가 다 떨어졌습니다. 판매를 중지합니다\")\n",
        "        break\n",
        "\n",
        "    else :\n",
        "      print(input(\"커피를 드시고 싶으시면 5000원을 넣으세요\"))"
      ],
      "metadata": {
        "colab": {
          "base_uri": "https://localhost:8080/"
        },
        "id": "LsWY9B4pkxRQ",
        "outputId": "6d1188f6-b1b3-4343-db8e-e621320805dc"
      },
      "execution_count": 17,
      "outputs": [
        {
          "output_type": "stream",
          "name": "stdout",
          "text": [
            "돈을 받았으니 커피를 줍니다\n",
            "남은 커피 수량 2 잔\n",
            "커피를 드시고 싶으시면 5000원을 넣으세요2\n",
            "2\n",
            "돈을 받았으니 커피를 줍니다\n",
            "남은 커피 수량 1 잔\n",
            "커피를 드시고 싶으시면 5000원을 넣으세요1\n",
            "1\n",
            "돈을 받았으니 커피를 줍니다\n",
            "남은 커피 수량 0 잔\n",
            "커피가 다 떨어졌습니다. 판매를 중지합니다\n"
          ]
        }
      ]
    },
    {
      "cell_type": "code",
      "source": [
        "# 미션\n",
        "# 관리자가 커피가격과 커피명을 정하고 개수를 입력한다\n",
        "# 소비자가 커피를 구매하는데 잔돈 나와야 함\n",
        "# 판매 종료 후 관리자가 커피 판매한 총액을 파악해야 함\n",
        "\n",
        "# 관리자 설정\n",
        "\n",
        "coffee_Name = input(\"음료 이름을 입력하세요: \")\n",
        "price = int(input(\"음료 가격을 입력하세요: \"))\n",
        "coffee_count = int(input(\"음료 개수를 입력하세요: \"))"
      ],
      "metadata": {
        "colab": {
          "base_uri": "https://localhost:8080/"
        },
        "id": "xM8JNIlLoztq",
        "outputId": "537dc43e-15c6-4c4d-fda4-198d32d5ab5e"
      },
      "execution_count": 53,
      "outputs": [
        {
          "name": "stdout",
          "output_type": "stream",
          "text": [
            "음료 이름을 입력하세요: ㅎㅎㅎㅎ\n",
            "음료 가격을 입력하세요: 1234\n",
            "음료 개수를 입력하세요: 4\n"
          ]
        }
      ]
    },
    {
      "cell_type": "code",
      "source": [
        "total_sale = price * coffee_count\n",
        "\n",
        "while True :\n",
        "      money = int(input(\"금액을 넣어주세요\"))\n",
        "      if money < price:\n",
        "          while True :\n",
        "              print((\"\"\"금액이 부족합니다. %s(을)를 드시고 싶으시면 %d원을 더 넣어주시기 바랍니다.\n",
        "                        반환을 원하신다면 '반환하기'를 입력해주시기 바랍니다\"\"\" %(coffee_Name,price - money)))\n",
        "              reaction = input(\"금액을 추가로 넣거나 반환하기를 입력하세요: \")\n",
        "\n",
        "              if reaction == \"반환하기\" :\n",
        "                  print(\"금액 %d원을 반환합니다.\"%money)\n",
        "                  break      # 두번째 반복문(while)종료 첫번째로 돌아감\n",
        "              else :\n",
        "                  try:\n",
        "                      additional_money = int(reaction)\n",
        "                      money += additional_money\n",
        "                      print(\"현재 투입 금액: %d원\" % money)\n",
        "                      if money >= price:\n",
        "                          print(\"%s(을)를 줍니다.\" % coffee_Name)\n",
        "                          coffee_count -= 1  # 음료제공\n",
        "                          print(\"잔액은 %d원입니다.\" % (money - price))\n",
        "                          break  # 음료 제공 후 반복문 종료\n",
        "                  except ValueError:\n",
        "                      print(\"유효한 금액을 입력하거나 '반환하기'를 입력하세요.\")\n",
        "      elif money>= price :\n",
        "          print(\"%s(을)를 줍니다\"% coffee_Name)\n",
        "          coffee_count = coffee_count - 1   # 한 잔씩 소모시킴\n",
        "          #  print(\"남은 %s 수량 %d 잔\" % (coffee_Name, coffee_count))\n",
        "          print(\"잔액은 %d원 입니다\"%(money - price, ))\n",
        "      else:\n",
        "          print(\"\")\n",
        "      if coffee_count == 0 :\n",
        "          print(\"%s가 다 떨어졌습니다. 판매를 중지합니다\" %coffee_Name)\n",
        "          print(\"현 자판기는 총 %d원을 벌었습니다\"%total_sale)\n",
        "          break\n",
        "\n",
        "\n",
        ""
      ],
      "metadata": {
        "colab": {
          "base_uri": "https://localhost:8080/",
          "height": 865
        },
        "id": "ot4oe02JGliY",
        "outputId": "87e3f2d1-14af-42f6-f6ef-98e3e55d45c3"
      },
      "execution_count": 56,
      "outputs": [
        {
          "output_type": "stream",
          "name": "stdout",
          "text": [
            "금액을 넣어주세요5555\n",
            "ㅎㅎㅎㅎ(을)를 줍니다\n",
            "잔액은 4321원 입니다\n",
            "금액을 넣어주세요1111\n",
            "금액이 부족합니다. ㅎㅎㅎㅎ(을)를 드시고 싶으시면 123원을 더 넣어주시기 바랍니다.\n",
            "                        반환을 원하신다면 '반환하기'를 입력해주시기 바랍니다\n",
            "금액을 추가로 넣거나 반환하기를 입력하세요: 123\n",
            "현재 투입 금액: 1234원\n",
            "ㅎㅎㅎㅎ(을)를 줍니다.\n",
            "잔액은 0원입니다.\n",
            "금액을 넣어주세요5555\n",
            "ㅎㅎㅎㅎ(을)를 줍니다\n",
            "잔액은 4321원 입니다\n",
            "금액을 넣어주세요3333\n",
            "ㅎㅎㅎㅎ(을)를 줍니다\n",
            "잔액은 2099원 입니다\n",
            "금액을 넣어주세요555\n",
            "금액이 부족합니다. ㅎㅎㅎㅎ(을)를 드시고 싶으시면 679원을 더 넣어주시기 바랍니다.\n",
            "                        반환을 원하신다면 '반환하기'를 입력해주시기 바랍니다\n",
            "금액을 추가로 넣거나 반환하기를 입력하세요: 15155\n",
            "현재 투입 금액: 15710원\n",
            "ㅎㅎㅎㅎ(을)를 줍니다.\n",
            "잔액은 14476원입니다.\n",
            "금액을 넣어주세요515361\n",
            "ㅎㅎㅎㅎ(을)를 줍니다\n",
            "잔액은 514127원 입니다\n"
          ]
        },
        {
          "output_type": "error",
          "ename": "KeyboardInterrupt",
          "evalue": "Interrupted by user",
          "traceback": [
            "\u001b[0;31m---------------------------------------------------------------------------\u001b[0m",
            "\u001b[0;31mKeyboardInterrupt\u001b[0m                         Traceback (most recent call last)",
            "\u001b[0;32m<ipython-input-56-db0f7ac8636d>\u001b[0m in \u001b[0;36m<cell line: 3>\u001b[0;34m()\u001b[0m\n\u001b[1;32m      2\u001b[0m \u001b[0;34m\u001b[0m\u001b[0m\n\u001b[1;32m      3\u001b[0m \u001b[0;32mwhile\u001b[0m \u001b[0;32mTrue\u001b[0m \u001b[0;34m:\u001b[0m\u001b[0;34m\u001b[0m\u001b[0;34m\u001b[0m\u001b[0m\n\u001b[0;32m----> 4\u001b[0;31m       \u001b[0mmoney\u001b[0m \u001b[0;34m=\u001b[0m \u001b[0mint\u001b[0m\u001b[0;34m(\u001b[0m\u001b[0minput\u001b[0m\u001b[0;34m(\u001b[0m\u001b[0;34m\"금액을 넣어주세요\"\u001b[0m\u001b[0;34m)\u001b[0m\u001b[0;34m)\u001b[0m\u001b[0;34m\u001b[0m\u001b[0;34m\u001b[0m\u001b[0m\n\u001b[0m\u001b[1;32m      5\u001b[0m       \u001b[0;32mif\u001b[0m \u001b[0mmoney\u001b[0m \u001b[0;34m<\u001b[0m \u001b[0mprice\u001b[0m\u001b[0;34m:\u001b[0m\u001b[0;34m\u001b[0m\u001b[0;34m\u001b[0m\u001b[0m\n\u001b[1;32m      6\u001b[0m           \u001b[0;32mwhile\u001b[0m \u001b[0;32mTrue\u001b[0m \u001b[0;34m:\u001b[0m\u001b[0;34m\u001b[0m\u001b[0;34m\u001b[0m\u001b[0m\n",
            "\u001b[0;32m/usr/local/lib/python3.10/dist-packages/ipykernel/kernelbase.py\u001b[0m in \u001b[0;36mraw_input\u001b[0;34m(self, prompt)\u001b[0m\n\u001b[1;32m    849\u001b[0m                 \u001b[0;34m\"raw_input was called, but this frontend does not support input requests.\"\u001b[0m\u001b[0;34m\u001b[0m\u001b[0;34m\u001b[0m\u001b[0m\n\u001b[1;32m    850\u001b[0m             )\n\u001b[0;32m--> 851\u001b[0;31m         return self._input_request(str(prompt),\n\u001b[0m\u001b[1;32m    852\u001b[0m             \u001b[0mself\u001b[0m\u001b[0;34m.\u001b[0m\u001b[0m_parent_ident\u001b[0m\u001b[0;34m,\u001b[0m\u001b[0;34m\u001b[0m\u001b[0;34m\u001b[0m\u001b[0m\n\u001b[1;32m    853\u001b[0m             \u001b[0mself\u001b[0m\u001b[0;34m.\u001b[0m\u001b[0m_parent_header\u001b[0m\u001b[0;34m,\u001b[0m\u001b[0;34m\u001b[0m\u001b[0;34m\u001b[0m\u001b[0m\n",
            "\u001b[0;32m/usr/local/lib/python3.10/dist-packages/ipykernel/kernelbase.py\u001b[0m in \u001b[0;36m_input_request\u001b[0;34m(self, prompt, ident, parent, password)\u001b[0m\n\u001b[1;32m    893\u001b[0m             \u001b[0;32mexcept\u001b[0m \u001b[0mKeyboardInterrupt\u001b[0m\u001b[0;34m:\u001b[0m\u001b[0;34m\u001b[0m\u001b[0;34m\u001b[0m\u001b[0m\n\u001b[1;32m    894\u001b[0m                 \u001b[0;31m# re-raise KeyboardInterrupt, to truncate traceback\u001b[0m\u001b[0;34m\u001b[0m\u001b[0;34m\u001b[0m\u001b[0m\n\u001b[0;32m--> 895\u001b[0;31m                 \u001b[0;32mraise\u001b[0m \u001b[0mKeyboardInterrupt\u001b[0m\u001b[0;34m(\u001b[0m\u001b[0;34m\"Interrupted by user\"\u001b[0m\u001b[0;34m)\u001b[0m \u001b[0;32mfrom\u001b[0m \u001b[0;32mNone\u001b[0m\u001b[0;34m\u001b[0m\u001b[0;34m\u001b[0m\u001b[0m\n\u001b[0m\u001b[1;32m    896\u001b[0m             \u001b[0;32mexcept\u001b[0m \u001b[0mException\u001b[0m \u001b[0;32mas\u001b[0m \u001b[0me\u001b[0m\u001b[0;34m:\u001b[0m\u001b[0;34m\u001b[0m\u001b[0;34m\u001b[0m\u001b[0m\n\u001b[1;32m    897\u001b[0m                 \u001b[0mself\u001b[0m\u001b[0;34m.\u001b[0m\u001b[0mlog\u001b[0m\u001b[0;34m.\u001b[0m\u001b[0mwarning\u001b[0m\u001b[0;34m(\u001b[0m\u001b[0;34m\"Invalid Message:\"\u001b[0m\u001b[0;34m,\u001b[0m \u001b[0mexc_info\u001b[0m\u001b[0;34m=\u001b[0m\u001b[0;32mTrue\u001b[0m\u001b[0;34m)\u001b[0m\u001b[0;34m\u001b[0m\u001b[0;34m\u001b[0m\u001b[0m\n",
            "\u001b[0;31mKeyboardInterrupt\u001b[0m: Interrupted by user"
          ]
        }
      ]
    }
  ]
}