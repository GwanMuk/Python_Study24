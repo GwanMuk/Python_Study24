{
  "nbformat": 4,
  "nbformat_minor": 0,
  "metadata": {
    "colab": {
      "provenance": [],
      "authorship_tag": "ABX9TyOGXi7NrFnXQnz40a5kwuf4",
      "include_colab_link": true
    },
    "kernelspec": {
      "name": "python3",
      "display_name": "Python 3"
    },
    "language_info": {
      "name": "python"
    }
  },
  "cells": [
    {
      "cell_type": "markdown",
      "metadata": {
        "id": "view-in-github",
        "colab_type": "text"
      },
      "source": [
        "<a href=\"https://colab.research.google.com/github/GwanMuk/Pytion_Study24/blob/master/While%EB%AC%B8_Study.ipynb\" target=\"_parent\"><img src=\"https://colab.research.google.com/assets/colab-badge.svg\" alt=\"Open In Colab\"/></a>"
      ]
    },
    {
      "cell_type": "markdown",
      "source": [
        "while문\n",
        "\n",
        "while문은 문장을 반복해서 수행해야 되는 경우 활용 (반복문)\n",
        "\n",
        "반복문은 여러 데이터를 처리해야 하는 경우 사용함\n",
        "\n",
        "if문에서 성정처리를 할 때 1명 데이터를 처리하지만 입력을 여러명 받아 더 큰 프로그램을 만들 수 있다.\n",
        "\n",
        "반복문은 while문과 for문으로 활용되는데 while문은 max가 없는 반복문일 경우 사용되고 for문은 max가 있는 경우 사용됨\n",
        "\n",
        "while 조건문 :\n",
        "    실행문1\n",
        "    실행문2\n",
        "    실행문3\n",
        "\n",
        "Java에서는 {}으로 실행문의 블럭을 만들지만 파이썬은 들여쓰기로 판단한다"
      ],
      "metadata": {
        "id": "PtU6zdlKfuA9"
      }
    },
    {
      "cell_type": "code",
      "source": [
        "# 열번 찍어 안넘어가는 나무 없다\n",
        "\n",
        "treeHit = 0\n",
        "while treeHit <10:    # 조건 treeHit < 10 : treeHit가 10보다 작으면\n",
        "    treeHit = treeHit + 1     # 반복중에 1씩 증가함\n",
        "    print(\"나무를 %d번 찍었습니다.\" % treeHit)\n",
        "    if treeHit == 10:         # 도끼로 찍은 나무의 타격 횟 수 10번인지 판단\n",
        "        print(\"나무가 넘어갑니다.\")\n",
        "    else :\n",
        "        print(\"나무가 아직 넘어가지 않았습니다.\")\n"
      ],
      "metadata": {
        "colab": {
          "base_uri": "https://localhost:8080/"
        },
        "id": "SuyAaWIsft1O",
        "outputId": "175ceb83-1bae-4a0e-f39a-f265f5dfad9d"
      },
      "execution_count": 1,
      "outputs": [
        {
          "output_type": "stream",
          "name": "stdout",
          "text": [
            "나무를 1번 찍었습니다.\n",
            "나무가 아직 넘어가지 않았습니다.\n",
            "나무를 2번 찍었습니다.\n",
            "나무가 아직 넘어가지 않았습니다.\n",
            "나무를 3번 찍었습니다.\n",
            "나무가 아직 넘어가지 않았습니다.\n",
            "나무를 4번 찍었습니다.\n",
            "나무가 아직 넘어가지 않았습니다.\n",
            "나무를 5번 찍었습니다.\n",
            "나무가 아직 넘어가지 않았습니다.\n",
            "나무를 6번 찍었습니다.\n",
            "나무가 아직 넘어가지 않았습니다.\n",
            "나무를 7번 찍었습니다.\n",
            "나무가 아직 넘어가지 않았습니다.\n",
            "나무를 8번 찍었습니다.\n",
            "나무가 아직 넘어가지 않았습니다.\n",
            "나무를 9번 찍었습니다.\n",
            "나무가 아직 넘어가지 않았습니다.\n",
            "나무를 10번 찍었습니다.\n",
            "나무가 넘어갑니다.\n"
          ]
        }
      ]
    },
    {
      "cell_type": "code",
      "execution_count": 2,
      "metadata": {
        "colab": {
          "base_uri": "https://localhost:8080/"
        },
        "id": "MOt4y9dvfdPI",
        "outputId": "9460bd5d-f5d3-44e5-f7b1-5aade5e9779a"
      },
      "outputs": [
        {
          "name": "stdout",
          "output_type": "stream",
          "text": [
            "\n",
            "1. 학생가입\n",
            "2. 성적입력\n",
            "3. 성적출력\n",
            "4. Quit\n",
            "\n",
            "Enter number:\n",
            "\n",
            "5\n",
            "\n",
            "1. 학생가입\n",
            "2. 성적입력\n",
            "3. 성적출력\n",
            "4. Quit\n",
            "\n",
            "Enter number:\n",
            "\n",
            "4\n"
          ]
        }
      ],
      "source": [
        "# 콘솔에서 프로그램 만들어 보기\n",
        "\n",
        "prompt = \"\"\"\n",
        "1. 학생가입\n",
        "2. 성적입력\n",
        "3. 성적출력\n",
        "4. Quit\n",
        "\n",
        "Enter number:\n",
        "\"\"\"\n",
        "\n",
        "number = 0              # 키보드로 전달되는 변수 초기값\n",
        "while number != 4 :     # 4가 아닐 때까지 반복문 -> 4입력시 while문 종료\n",
        "  print(prompt)         # 4가 아닐 때 prompt 출력\n",
        "  number = int(input()) # 반복중에 입력받은 프롬프트 비교 값\n",
        "\n"
      ]
    },
    {
      "cell_type": "code",
      "source": [
        "# 커피 자판기 프로그램\n",
        "\n",
        "coffee = 3        # 커피는 총 3잔이 준비 되어 있음\n",
        "money = 300        # 현재 입금된 금액은 300원\n",
        "while money :\n",
        "    print(\"돈을 받았으니 커피를 줍니다\")\n",
        "    coffee = coffee - 1   # 한 잔씩 소모시킴\n",
        "    print(\"남은 커피 수량 %d 잔\" % coffee)\n",
        "\n",
        "    if coffee == 0 :\n",
        "        print(\"커피가 다 떨어졌습니다. 판매를 중지합니다\")\n",
        "        break\n",
        "\n",
        "    else :\n",
        "      print(input(\"커피를 드시고 싶으시면 5000원을 넣으세요\"))"
      ],
      "metadata": {
        "colab": {
          "base_uri": "https://localhost:8080/"
        },
        "id": "LsWY9B4pkxRQ",
        "outputId": "6d1188f6-b1b3-4343-db8e-e621320805dc"
      },
      "execution_count": 17,
      "outputs": [
        {
          "output_type": "stream",
          "name": "stdout",
          "text": [
            "돈을 받았으니 커피를 줍니다\n",
            "남은 커피 수량 2 잔\n",
            "커피를 드시고 싶으시면 5000원을 넣으세요2\n",
            "2\n",
            "돈을 받았으니 커피를 줍니다\n",
            "남은 커피 수량 1 잔\n",
            "커피를 드시고 싶으시면 5000원을 넣으세요1\n",
            "1\n",
            "돈을 받았으니 커피를 줍니다\n",
            "남은 커피 수량 0 잔\n",
            "커피가 다 떨어졌습니다. 판매를 중지합니다\n"
          ]
        }
      ]
    },
    {
      "cell_type": "code",
      "source": [
        "# 미션\n",
        "# 관리자가 커피가격과 커피명을 정하고 개수를 입력한다\n",
        "# 소비자가 커피를 구매하는데 잔돈 나와야 함\n",
        "# 판매 종료 후 관리자가 커피 판매한 총액을 파악해야 함\n",
        "\n",
        "# 관리자 설정\n",
        "\n",
        "coffee_Name = input(\"음료 이름을 입력하세요: \")\n",
        "price = int(input(\"음료 가격을 입력하세요: \"))\n",
        "coffee_count = int(input(\"음료 개수를 입력하세요: \"))"
      ],
      "metadata": {
        "colab": {
          "base_uri": "https://localhost:8080/"
        },
        "id": "xM8JNIlLoztq",
        "outputId": "9c289486-a3d9-4d9b-8805-15f270111d80"
      },
      "execution_count": 58,
      "outputs": [
        {
          "name": "stdout",
          "output_type": "stream",
          "text": [
            "음료 이름을 입력하세요: 도라에몽\n",
            "음료 가격을 입력하세요: 1000\n",
            "음료 개수를 입력하세요: 4\n"
          ]
        }
      ]
    },
    {
      "cell_type": "code",
      "source": [
        "total_sale = price * coffee_count\n",
        "\n",
        "while True :\n",
        "      money = int(input(\"금액을 넣어주세요\"))\n",
        "      if money < pr\\ice:\n",
        "          while True :\n",
        "              print((\"\"\"금액이 부족합니다. %s(을)를 드시고 싶으시면 %d원을 더 넣어주시기 바랍니다.\n",
        "                        반환을 원하신다면 '반환하기'를 입력해주시기 바랍니다\"\"\" %(coffee_Name,price - money)))\n",
        "              reaction = input(\"금액을 추가로 넣거나 반환하기를 입력하세요: \")\n",
        "\n",
        "              if reaction == \"반환하기\" :\n",
        "                  print(\"금액 %d원을 반환합니다.\"%money)\n",
        "                  break      # 두번째 반복문(while)종료 첫번째로 돌아감\n",
        "              else :\n",
        "                  try:\n",
        "                      additional_money = int(reaction)\n",
        "                      money += additional_money\n",
        "                      print(\"현재 투입 금액: %d원\" % money)\n",
        "                      if money >= price:\n",
        "                          print(\"%s(을)를 줍니다.\" % coffee_Name)\n",
        "                          coffee_count -= 1  # 음료제공\n",
        "                          print(\"잔액은 %d원입니다.\" % (money - price))\n",
        "                          break  # 음료 제공 후 반복문 종료\n",
        "                  except ValueError:\n",
        "                      print(\"유효한 금액을 입력하거나 '반환하기'를 입력하세요.\")\n",
        "      elif money>= price :\n",
        "          print(\"%s(을)를 줍니다\"% coffee_Name)\n",
        "          coffee_count = coffee_count - 1   # 한 잔씩 소모시킴\n",
        "          #  print(\"남은 %s 수량 %d 잔\" % (coffee_Name, coffee_count))\n",
        "          print(\"잔액은 %d원 입니다\"%(money - price, ))\n",
        "      else:\n",
        "          print(\"\")\n",
        "      if coffee_count == 0 :\n",
        "          print(\"%s가 다 떨어졌습니다. 판매를 중지합니다\" %coffee_Name)\n",
        "          print(\"현 자판기는 총 %d원을 벌었습니다\"%total_sale)\n",
        "          break\n",
        "\n",
        "\n",
        ""
      ],
      "metadata": {
        "colab": {
          "base_uri": "https://localhost:8080/"
        },
        "id": "ot4oe02JGliY",
        "outputId": "d5b4865d-3a4c-4a4e-f811-bc6b7298b561"
      },
      "execution_count": 59,
      "outputs": [
        {
          "output_type": "stream",
          "name": "stdout",
          "text": [
            "금액을 넣어주세요5000\n",
            "도라에몽(을)를 줍니다\n",
            "잔액은 4000원 입니다\n",
            "금액을 넣어주세요1000\n",
            "도라에몽(을)를 줍니다\n",
            "잔액은 0원 입니다\n",
            "금액을 넣어주세요1500\n",
            "도라에몽(을)를 줍니다\n",
            "잔액은 500원 입니다\n",
            "금액을 넣어주세요500\n",
            "금액이 부족합니다. 도라에몽(을)를 드시고 싶으시면 500원을 더 넣어주시기 바랍니다.\n",
            "                        반환을 원하신다면 '반환하기'를 입력해주시기 바랍니다\n",
            "금액을 추가로 넣거나 반환하기를 입력하세요: 반환하기\n",
            "금액 500원을 반환합니다.\n",
            "금액을 넣어주세요800\n",
            "금액이 부족합니다. 도라에몽(을)를 드시고 싶으시면 200원을 더 넣어주시기 바랍니다.\n",
            "                        반환을 원하신다면 '반환하기'를 입력해주시기 바랍니다\n",
            "금액을 추가로 넣거나 반환하기를 입력하세요: 200\n",
            "현재 투입 금액: 1000원\n",
            "도라에몽(을)를 줍니다.\n",
            "잔액은 0원입니다.\n",
            "도라에몽가 다 떨어졌습니다. 판매를 중지합니다\n",
            "현 자판기는 총 4000원을 벌었습니다\n"
          ]
        }
      ]
    }
  ]
}